{
 "cells": [
  {
   "cell_type": "markdown",
   "id": "c7618e47",
   "metadata": {},
   "source": [
    "<h1 align=\"center\">Programming in Python</h1>\n",
    "<h3 align=\"center\">Week-3 Practice</h3>"
   ]
  },
  {
   "cell_type": "markdown",
   "id": "40197430",
   "metadata": {},
   "source": [
    "### 3.2 Introduction to while loop:"
   ]
  },
  {
   "cell_type": "code",
   "execution_count": 1,
   "id": "1b825678",
   "metadata": {
    "scrolled": true
   },
   "outputs": [
    {
     "name": "stdout",
     "output_type": "stream",
     "text": [
      "When did India get its independence (year)?\n",
      "1456\n",
      "You got this wrong. Enter once again.\n",
      "1957\n",
      "You got this wrong. Enter once again.\n",
      "1947\n",
      "Wowww... you got it right\n"
     ]
    }
   ],
   "source": [
    "print(\"When did India get its independence (year)?\")\n",
    "year=int(input())\n",
    "\n",
    "#I would like to write a peice of code which lets the user attempt as many \n",
    "#times as he wants. The code will end only when it gets the right answer.\n",
    "\n",
    "while(year!=1947):\n",
    "    print(\"You got this wrong. Enter once again.\")\n",
    "    year=int(input())\n",
    "\n",
    "print(\"Wowww... you got it right\")"
   ]
  },
  {
   "cell_type": "markdown",
   "id": "4414bb82",
   "metadata": {},
   "source": [
    "### 3.3 While loop to compute factorial:"
   ]
  },
  {
   "cell_type": "code",
   "execution_count": 2,
   "id": "0204ff3a",
   "metadata": {},
   "outputs": [
    {
     "name": "stdout",
     "output_type": "stream",
     "text": [
      "Enter a number: 302\n",
      "302!=27821239975498886696887245672844312948681499476986496400983839333968935818829916686350271020886056372656168421378764330382499317743108904725528475832599801438687078303915581217413536326438492875380405575762873242574108703977389014217340895826408351580012674452971093931388110348104547336560301226301203917937148948329725858920276041668342172204326658599885299832918427155954881571009001377077825871757941510390734629536834856776808016455102168663399688382320265429770570408362173164431840107983871925841112448853546914073087111637969534031442739200000000000000000000000000000000000000000000000000000000000000000000000000\n"
     ]
    }
   ],
   "source": [
    "n=int(input(\"Enter a number: \"))\n",
    "\n",
    "ans=1\n",
    "i=1\n",
    "if n>0:\n",
    "    while(i<n):\n",
    "        i=i+1\n",
    "        ans=ans*i\n",
    "    print(str(i)+'!'+'='+str(ans))\n",
    "    fact_302=ans\n",
    "elif n==0:\n",
    "    print('0!=1')\n",
    "\n",
    "else:\n",
    "    print(\"Factorial of the number is not defined\")"
   ]
  },
  {
   "cell_type": "markdown",
   "id": "9ce73190",
   "metadata": {},
   "source": [
    "### 3.4 Tutorial on while loop:"
   ]
  },
  {
   "cell_type": "code",
   "execution_count": 3,
   "id": "9cf78e1a",
   "metadata": {},
   "outputs": [
    {
     "name": "stdout",
     "output_type": "stream",
     "text": [
      "Enter a number: 245\n",
      "245!=3446381088548184667326770790875951922006976951375582384611003611981639529782351868763804143237672379379846868628577527599609043944010849343355183826916579274876093562728501050027821075609832035303654996749361753195163012769070700485723141551669720900953728011558584003035375928212655846940281367061125645619508966404523085638743763256980870494465156859819224514274661087972929242817912092409671474491631797677547338910924800000000000000000000000000000000000000000000000000000000000\n"
     ]
    }
   ],
   "source": [
    "n=int(input(\"Enter a number: \"))\n",
    "\n",
    "ans=1\n",
    "i=1\n",
    "if n>0:\n",
    "    while(i<n):\n",
    "        i=i+1\n",
    "        ans=ans*i\n",
    "    print(str(i)+'!'+'='+str(ans))\n",
    "    fact_245=ans\n",
    "elif n==0:\n",
    "    print('0!=1')\n",
    "\n",
    "else:\n",
    "    print(\"Factorial of the number is not defined\")"
   ]
  },
  {
   "cell_type": "code",
   "execution_count": 4,
   "id": "24fbba52",
   "metadata": {},
   "outputs": [
    {
     "name": "stdout",
     "output_type": "stream",
     "text": [
      "Enter a number: 57\n",
      "57!=40526919504877216755680601905432322134980384796226602145184481280000000000000\n"
     ]
    }
   ],
   "source": [
    "n=int(input(\"Enter a number: \"))\n",
    "\n",
    "ans=1\n",
    "i=1\n",
    "if n>0:\n",
    "    while(i<n):\n",
    "        i=i+1\n",
    "        ans=ans*i\n",
    "    print(str(i)+'!'+'='+str(ans))\n",
    "    fact_57=ans\n",
    "elif n==0:\n",
    "    print('0!=1')\n",
    "\n",
    "else:\n",
    "    print(\"Factorial of the number is not defined\")"
   ]
  },
  {
   "cell_type": "code",
   "execution_count": 8,
   "id": "77697025",
   "metadata": {},
   "outputs": [
    {
     "name": "stdout",
     "output_type": "stream",
     "text": [
      "1.9919094409586454e+62\n"
     ]
    }
   ],
   "source": [
    "x=fact_302/(fact_245*fact_57)\n",
    "print(x)"
   ]
  },
  {
   "cell_type": "code",
   "execution_count": 9,
   "id": "845420b0",
   "metadata": {},
   "outputs": [
    {
     "name": "stdout",
     "output_type": "stream",
     "text": [
      "0.051883128520711384\n"
     ]
    }
   ],
   "source": [
    "y=0.8**245\n",
    "z=0.2**57\n",
    "print(x*y*z)"
   ]
  },
  {
   "cell_type": "code",
   "execution_count": null,
   "id": "ca520a0a",
   "metadata": {},
   "outputs": [],
   "source": []
  },
  {
   "cell_type": "code",
   "execution_count": null,
   "id": "6f4ca498",
   "metadata": {},
   "outputs": [],
   "source": []
  },
  {
   "cell_type": "code",
   "execution_count": null,
   "id": "5bf042b9",
   "metadata": {},
   "outputs": [],
   "source": []
  },
  {
   "cell_type": "code",
   "execution_count": null,
   "id": "4d2e7c46",
   "metadata": {},
   "outputs": [],
   "source": []
  },
  {
   "cell_type": "code",
   "execution_count": null,
   "id": "a5303e71",
   "metadata": {},
   "outputs": [],
   "source": []
  },
  {
   "cell_type": "code",
   "execution_count": 26,
   "id": "eab986c3",
   "metadata": {},
   "outputs": [
    {
     "name": "stdout",
     "output_type": "stream",
     "text": [
      "-123\n",
      "-321\n"
     ]
    }
   ],
   "source": [
    "x=int(input())\n",
    "x=str(x)\n",
    "y=''\n",
    "if x.startswith('-'):\n",
    "    x=x[1:len(x)]\n",
    "    y=y+'-'\n",
    "else:\n",
    "    pass\n",
    " \n",
    "i=len(x)\n",
    "while(i>0):\n",
    "    i=i-1\n",
    "    y=y+x[i]\n",
    "print(y)    "
   ]
  },
  {
   "cell_type": "code",
   "execution_count": 21,
   "id": "8d19ca39",
   "metadata": {},
   "outputs": [
    {
     "name": "stdout",
     "output_type": "stream",
     "text": [
      "Enter a string: -1234321\n",
      "Palindrome\n"
     ]
    }
   ],
   "source": [
    "#To find whether the entered number is a palindrome or not!\n",
    "#A palindrome is a word, number, or other sequence of characters which \n",
    "#reads the same backward as forward. In this case we consider integers.\n",
    "\n",
    "n=int(input('Enter a string: '))\n",
    "n=str(n)\n",
    "\n",
    "y=''\n",
    "if n.startswith('-'):\n",
    "    x=n[1:len(n)]\n",
    "    y=y+'-'\n",
    "else:\n",
    "    x=n\n",
    "    y=y\n",
    "\n",
    "i=len(x)\n",
    "while(i>0):\n",
    "    i=i-1\n",
    "    y=y+x[i]\n",
    "\n",
    "if y==n:\n",
    "    print(\"Palindrome\")\n",
    "else:\n",
    "    print(\"Not a palindrome\")"
   ]
  },
  {
   "cell_type": "markdown",
   "id": "884b51ef",
   "metadata": {},
   "source": [
    "### 3.5 Introduction to For loop:"
   ]
  },
  {
   "cell_type": "code",
   "execution_count": 29,
   "id": "8e945f8b",
   "metadata": {},
   "outputs": [
    {
     "name": "stdout",
     "output_type": "stream",
     "text": [
      "Enter a number: 4\n",
      "0 Hello! India\n",
      "1 Hello! Mumbai\n",
      "2 Hello! India\n",
      "3 Hello! Mumbai\n"
     ]
    }
   ],
   "source": [
    "n=int(input(\"Enter a number: \"))\n",
    "\n",
    "for i in range(n):    # range(n) means i will take values from 0 to n-1.\n",
    "    if (i%2==0):\n",
    "        print(i,\"Hello! India\")\n",
    "    else:\n",
    "        print(i,\"Hello! Mumbai\")"
   ]
  },
  {
   "cell_type": "markdown",
   "id": "4d1d0266",
   "metadata": {},
   "source": [
    "### 3.6 For loop to add the first n integers:"
   ]
  },
  {
   "cell_type": "code",
   "execution_count": 37,
   "id": "7c028957",
   "metadata": {},
   "outputs": [
    {
     "name": "stdout",
     "output_type": "stream",
     "text": [
      "Enter a number: 100000\n",
      "Sum of first 100000 integers is equal to 4999950000\n"
     ]
    }
   ],
   "source": [
    "# First n integers: 0,1,2,...,n-1\n",
    "\n",
    "n=int(input(\"Enter a number: \"))\n",
    "sum=0\n",
    "for i in range(n):\n",
    "    sum=sum+i\n",
    "print(\"Sum of first\",n,\"integers is equal to\",sum)"
   ]
  },
  {
   "cell_type": "markdown",
   "id": "227986de",
   "metadata": {},
   "source": [
    "### 3.7 For loop for multiplication tables:"
   ]
  },
  {
   "cell_type": "code",
   "execution_count": 40,
   "id": "a7561b92",
   "metadata": {},
   "outputs": [
    {
     "name": "stdout",
     "output_type": "stream",
     "text": [
      "Enter a number: 2\n",
      "2 X 1 = 2\n",
      "2 X 3 = 6\n",
      "2 X 5 = 10\n",
      "2 X 7 = 14\n",
      "2 X 9 = 18\n",
      "2 X 11 = 22\n"
     ]
    }
   ],
   "source": [
    "n=int(input(\"Enter a number: \"))\n",
    "for i in range(1,13,2):  #i loops in steps of 2\n",
    "    print(n,\"X\",i,\"=\",2*i)\n"
   ]
  },
  {
   "cell_type": "markdown",
   "id": "59589bf1",
   "metadata": {},
   "source": [
    "### 3.9 Formatted Printing:"
   ]
  },
  {
   "cell_type": "code",
   "execution_count": 47,
   "id": "42b04fb2",
   "metadata": {},
   "outputs": [
    {
     "name": "stdout",
     "output_type": "stream",
     "text": [
      "0\n",
      "1\n",
      "2\n",
      "3\n",
      "4\n",
      "5\n",
      "6\n",
      "7\n",
      "8\n",
      "9\n",
      "0 1 2 3 4 5 6 7 8 9 "
     ]
    }
   ],
   "source": [
    "#default vvalue of END parameter is \\n\n",
    "\n",
    "for x in range(10):\n",
    "    print(x,end='\\n') #This is same as print(x)\n",
    "for x in range(10):\n",
    "    print(x,end=' ')  #This changes the default value of end to ' '"
   ]
  },
  {
   "cell_type": "code",
   "execution_count": 50,
   "id": "0269888f",
   "metadata": {},
   "outputs": [
    {
     "name": "stdout",
     "output_type": "stream",
     "text": [
      "Today's date is 16-5-2021\n"
     ]
    }
   ],
   "source": [
    "#default value of SEP parameter is ' '\n",
    "\n",
    "d=16\n",
    "m=5\n",
    "y=2021\n",
    "print(\"Today's date is\", end=' ')\n",
    "print(d,m,y, sep='-')"
   ]
  },
  {
   "cell_type": "code",
   "execution_count": 1,
   "id": "bd9d8b76",
   "metadata": {},
   "outputs": [
    {
     "name": "stdout",
     "output_type": "stream",
     "text": [
      "Enter a number: 2\n",
      "2 X 1 = 2\n",
      "2 X 2 = 4\n",
      "2 X 3 = 6\n",
      "2 X 4 = 8\n",
      "2 X 5 = 10\n",
      "2 X 6 = 12\n",
      "2 X 7 = 14\n",
      "2 X 8 = 16\n",
      "2 X 9 = 18\n",
      "2 X 10 = 20\n"
     ]
    }
   ],
   "source": [
    "#formatted printing\n",
    "\n",
    "n=int(input(\"Enter a number: \"))\n",
    "for i in range(1,11):\n",
    "    print(f'{n} X {i} = {n*i}')  #Everything except in curly brackets is \n",
    "                                 #a string. The objects in curly brackets\n",
    "                                 #are read as variables by the program."
   ]
  },
  {
   "cell_type": "code",
   "execution_count": 2,
   "id": "ad3e85c2",
   "metadata": {},
   "outputs": [
    {
     "name": "stdout",
     "output_type": "stream",
     "text": [
      "Enter a number: 2\n",
      "2 X 1 = 2\n",
      "2 X 2 = 4\n",
      "2 X 3 = 6\n",
      "2 X 4 = 8\n",
      "2 X 5 = 10\n",
      "2 X 6 = 12\n",
      "2 X 7 = 14\n",
      "2 X 8 = 16\n",
      "2 X 9 = 18\n",
      "2 X 10 = 20\n"
     ]
    }
   ],
   "source": [
    "#print using format function\n",
    "\n",
    "n=int(input(\"Enter a number: \"))\n",
    "for i in range(1,11):\n",
    "    print('{0} X {1} = {2}'.format(n,i,n*i))  #The format funtion assigns \n",
    "                        #a value of n,i,n*i to 0,1 and 2 respectively."
   ]
  },
  {
   "cell_type": "code",
   "execution_count": 5,
   "id": "06231313",
   "metadata": {
    "scrolled": true
   },
   "outputs": [
    {
     "name": "stdout",
     "output_type": "stream",
     "text": [
      "Enter a number: 2\n",
      "2 X 1 = 2\n",
      "2 X 2 = 4\n",
      "2 X 3 = 6\n",
      "2 X 4 = 8\n",
      "2 X 5 = 10\n",
      "2 X 6 = 12\n",
      "2 X 7 = 14\n",
      "2 X 8 = 16\n",
      "2 X 9 = 18\n",
      "2 X 10 = 20\n"
     ]
    }
   ],
   "source": [
    "#C program style of writing print statement; supported by python also.\n",
    "#print using string modulo operator\n",
    "\n",
    "n=int(input(\"Enter a number: \"))\n",
    "for i in range(1,11):\n",
    "    print('%d X %d = %d' % (n,i,n*i))  # %d - d stands for decimal number"
   ]
  },
  {
   "cell_type": "code",
   "execution_count": 15,
   "id": "8a78fbc8",
   "metadata": {},
   "outputs": [
    {
     "name": "stdout",
     "output_type": "stream",
     "text": [
      "Value of pi = 3.142857142857143\n",
      "Value of pi = 3.142857142857143\n",
      "Value of pi = 3.142857\n",
      "\n",
      "\n",
      "Value of pi upto 2 digits after decimal place: \n",
      "Value of pi = 3.14\n",
      "Value of pi = 3.14\n",
      "Value of pi = 3.14\n"
     ]
    }
   ],
   "source": [
    "pi=22/7\n",
    "print(f'Value of pi = {pi}')\n",
    "print('Value of pi = {0}'.format(pi))\n",
    "print('Value of pi = %f' % (pi))  # %f - f stands for float\n",
    "print(\"\\n\")\n",
    "#Limiting the number of digits after the decimal using FORMAT SPECIFIERS:\n",
    "print(\"Value of pi upto 2 digits after decimal place: \")\n",
    "print(f'Value of pi = {pi:.2f}')\n",
    "print('Value of pi = {0:.2f}'.format(pi))\n",
    "print('Value of pi = %.2f' % (pi))"
   ]
  },
  {
   "cell_type": "code",
   "execution_count": 18,
   "id": "f9235de2",
   "metadata": {},
   "outputs": [
    {
     "name": "stdout",
     "output_type": "stream",
     "text": [
      "1\n",
      "11\n",
      "111\n",
      "1111\n",
      "11111\n",
      "\n",
      "\n",
      "    1\n",
      "   11\n",
      "  111\n",
      " 1111\n",
      "11111\n"
     ]
    }
   ],
   "source": [
    "print('{0}'.format(1))\n",
    "print('{0}'.format(11))\n",
    "print('{0}'.format(111))\n",
    "print('{0}'.format(1111))\n",
    "print('{0}'.format(11111))\n",
    "\n",
    "print(\"\\n\")\n",
    "\n",
    "#Print with right indentation:\n",
    "print('{0:5d}'.format(1))\n",
    "print('{0:5d}'.format(11))\n",
    "print('{0:5d}'.format(111))\n",
    "print('{0:5d}'.format(1111))\n",
    "print('{0:5d}'.format(11111))"
   ]
  },
  {
   "cell_type": "code",
   "execution_count": 20,
   "id": "b547fb2a",
   "metadata": {},
   "outputs": [
    {
     "name": "stdout",
     "output_type": "stream",
     "text": [
      "5\n",
      "4\n",
      "3\n",
      "2\n"
     ]
    }
   ],
   "source": [
    "for i in range(5,1,-1):    # The end point is never included...\n",
    "    print(i)"
   ]
  },
  {
   "cell_type": "markdown",
   "id": "b47e27c1",
   "metadata": {},
   "source": [
    "### 3.11 Nested \"for\" loop:"
   ]
  },
  {
   "cell_type": "code",
   "execution_count": 25,
   "id": "5f124c7c",
   "metadata": {},
   "outputs": [
    {
     "name": "stdout",
     "output_type": "stream",
     "text": [
      "0 0 V V\n",
      "0 1 V I\n",
      "0 2 V B\n",
      "0 3 V G\n",
      "0 4 V Y\n",
      "0 5 V O\n",
      "0 6 V R\n",
      "1 0 I V\n",
      "1 1 I I\n",
      "1 2 I B\n",
      "1 3 I G\n",
      "1 4 I Y\n",
      "1 5 I O\n",
      "1 6 I R\n",
      "2 0 B V\n",
      "2 1 B I\n",
      "2 2 B B\n",
      "2 3 B G\n",
      "2 4 B Y\n",
      "2 5 B O\n",
      "2 6 B R\n",
      "3 0 G V\n",
      "3 1 G I\n",
      "3 2 G B\n",
      "3 3 G G\n",
      "3 4 G Y\n",
      "3 5 G O\n",
      "3 6 G R\n",
      "4 0 Y V\n",
      "4 1 Y I\n",
      "4 2 Y B\n",
      "4 3 Y G\n",
      "4 4 Y Y\n",
      "4 5 Y O\n",
      "4 6 Y R\n",
      "5 0 O V\n",
      "5 1 O I\n",
      "5 2 O B\n",
      "5 3 O G\n",
      "5 4 O Y\n",
      "5 5 O O\n",
      "5 6 O R\n",
      "6 0 R V\n",
      "6 1 R I\n",
      "6 2 R B\n",
      "6 3 R G\n",
      "6 4 R Y\n",
      "6 5 R O\n",
      "6 6 R R\n",
      "The total no. of combinations: 49\n"
     ]
    }
   ],
   "source": [
    "s='VIBGYOR'  # Set of colours Sharad can wear.\n",
    "t='VIBGYOR'  # Set of colours Tanmay can wear.\n",
    "\n",
    "# Problem: What are the possible combinations?\n",
    "count=0\n",
    "for i in range(7):\n",
    "    for j in range(7):\n",
    "        print(i,j,s[i],s[j])\n",
    "        count+=1\n",
    "print(\"The total no. of combinations:\",count)"
   ]
  },
  {
   "cell_type": "code",
   "execution_count": 1,
   "id": "27c4970c",
   "metadata": {},
   "outputs": [
    {
     "name": "stdout",
     "output_type": "stream",
     "text": [
      "Hello Python!\n",
      "Hello Python!\n",
      "Hello Python!\n",
      "Hello Python!\n",
      "Hello Python!\n",
      "Hello Python!\n",
      "Hello Python!\n",
      "Hello Python!\n",
      "Hello Python!\n",
      "Hello Python!\n",
      "\n"
     ]
    }
   ],
   "source": [
    "print(\"Hello Python!\\n\"*10)"
   ]
  },
  {
   "cell_type": "code",
   "execution_count": 2,
   "id": "1e589675",
   "metadata": {},
   "outputs": [
    {
     "name": "stdout",
     "output_type": "stream",
     "text": [
      "234568\n",
      "6\n"
     ]
    }
   ],
   "source": [
    "x=int(input())\n",
    "i=0\n",
    "while x % 10**i != x:\n",
    "    i=i+1\n",
    "print(i)"
   ]
  },
  {
   "cell_type": "code",
   "execution_count": 4,
   "id": "8ef711d8",
   "metadata": {},
   "outputs": [
    {
     "name": "stdout",
     "output_type": "stream",
     "text": [
      "2\n"
     ]
    }
   ],
   "source": [
    "n=0\n",
    "for i in range(10):\n",
    "    for j in range(10):\n",
    "        n+=1\n",
    "        break\n",
    "    n+=1\n",
    "    break\n",
    "print(n)"
   ]
  },
  {
   "cell_type": "code",
   "execution_count": 2,
   "id": "a1b00aca",
   "metadata": {},
   "outputs": [
    {
     "name": "stdout",
     "output_type": "stream",
     "text": [
      "10\n",
      "9\n",
      "8\n",
      "7\n",
      "6\n",
      "5\n",
      "4\n",
      "3\n",
      "2\n",
      "1\n"
     ]
    }
   ],
   "source": [
    "for i in range(10,0,-1):\n",
    "    print(i)"
   ]
  },
  {
   "cell_type": "code",
   "execution_count": 5,
   "id": "81c5fcf2",
   "metadata": {},
   "outputs": [
    {
     "name": "stdout",
     "output_type": "stream",
     "text": [
      "1951\n"
     ]
    }
   ],
   "source": [
    "count=0\n",
    "for i in range(1231,-12420,-7):\n",
    "    count+=1\n",
    "print(count)"
   ]
  },
  {
   "cell_type": "code",
   "execution_count": 3,
   "id": "0ea881f1",
   "metadata": {
    "scrolled": true
   },
   "outputs": [
    {
     "name": "stdout",
     "output_type": "stream",
     "text": [
      "1 1\n",
      "1 2\n",
      "2 3\n",
      "3 5\n",
      "5 8\n",
      "8 13\n",
      "13 21\n",
      "21 34\n",
      "34 55\n",
      "55 89\n",
      "55\n"
     ]
    }
   ],
   "source": [
    "x = 0\n",
    "x_ = 1\n",
    "for i in range(10):\n",
    "    x, x_ = x_, x + x_\n",
    "    print(x,x_)\n",
    "print(x)"
   ]
  },
  {
   "cell_type": "code",
   "execution_count": 4,
   "id": "835e48af",
   "metadata": {
    "scrolled": false
   },
   "outputs": [
    {
     "name": "stdout",
     "output_type": "stream",
     "text": [
      "1 2\n",
      "2 4\n",
      "4 8\n",
      "8 16\n",
      "16 32\n",
      "32 64\n",
      "64 128\n",
      "128 256\n",
      "256 512\n",
      "512 1024\n",
      "512\n"
     ]
    }
   ],
   "source": [
    "x = 0\n",
    "x_ = 1\n",
    "for i in range(10):\n",
    "    x = x_\n",
    "    x_ = x + x_\n",
    "    print(x,x_)\n",
    "print(x)"
   ]
  },
  {
   "cell_type": "markdown",
   "id": "2bd8e1cf",
   "metadata": {},
   "source": [
    "### PPA - 1"
   ]
  },
  {
   "cell_type": "code",
   "execution_count": 1,
   "id": "b5fdf911",
   "metadata": {},
   "outputs": [
    {
     "name": "stdout",
     "output_type": "stream",
     "text": [
      "1092\n",
      "1248\n",
      "1404\n",
      "1560\n",
      "1716\n",
      "1872\n"
     ]
    }
   ],
   "source": [
    "for i in range(1000,2001,1):\n",
    "    if i%12==0 and i%13==0:\n",
    "        print(i)"
   ]
  },
  {
   "cell_type": "markdown",
   "id": "e93049c9",
   "metadata": {},
   "source": [
    "### PPA - 2"
   ]
  },
  {
   "cell_type": "code",
   "execution_count": 6,
   "id": "a5a489d4",
   "metadata": {},
   "outputs": [
    {
     "name": "stdout",
     "output_type": "stream",
     "text": [
      "123\n",
      "6\n"
     ]
    }
   ],
   "source": [
    "n=int(input())\n",
    "s=str(n)\n",
    "sum=0\n",
    "i=0\n",
    "while i<len(s):\n",
    "    a=int(s[i])\n",
    "    sum=sum+a\n",
    "    i=i+1\n",
    "print(sum)"
   ]
  },
  {
   "cell_type": "markdown",
   "id": "2c591e38",
   "metadata": {},
   "source": [
    "### PPA - 3"
   ]
  },
  {
   "cell_type": "code",
   "execution_count": 14,
   "id": "13e81af1",
   "metadata": {},
   "outputs": [
    {
     "name": "stdout",
     "output_type": "stream",
     "text": [
      "100\n",
      "1060\n"
     ]
    }
   ],
   "source": [
    "n=int(input())\n",
    "sum=0\n",
    "for i in range(1,n+1):\n",
    "    bool=True\n",
    "    for j in range(1,i+1):\n",
    "        if j>1 and j<i:\n",
    "            if i%j==0:\n",
    "                bool=False\n",
    "                break\n",
    "            else:\n",
    "                continue\n",
    "        else:\n",
    "            pass\n",
    "    if bool==True and i>1:\n",
    "        sum+=i\n",
    "    else:\n",
    "        pass\n",
    "print(sum)   "
   ]
  },
  {
   "cell_type": "markdown",
   "id": "ec445253",
   "metadata": {},
   "source": [
    "### PPA - 4"
   ]
  },
  {
   "cell_type": "code",
   "execution_count": 5,
   "id": "6e3e3231",
   "metadata": {},
   "outputs": [
    {
     "name": "stdout",
     "output_type": "stream",
     "text": [
      "1\n",
      "*\n"
     ]
    }
   ],
   "source": [
    "odd_n=int(input())\n",
    "if odd_n%2==0:\n",
    "    pass\n",
    "elif odd_n<5:\n",
    "    for i in range(odd_n):\n",
    "        print('*'*odd_n)\n",
    "else:\n",
    "    c=int((odd_n-3)/2)\n",
    "    m=int((odd_n+1)/2)\n",
    "\n",
    "    print(odd_n*'*')\n",
    "\n",
    "    for i in range(c):\n",
    "        print('*'+i*' '+'*'+(m-3-i)*' '+'*'+(m-3-i)*' '+'*'+i*' '+'*')\n",
    "\n",
    "    print(odd_n*'*')\n",
    "\n",
    "    for i in range(c):\n",
    "        print('*'+(m-3-i)*' '+'*'+i*' '+'*'+i*' '+'*'+(m-3-i)*' '+'*')\n",
    "\n",
    "    print(odd_n*'*')"
   ]
  },
  {
   "cell_type": "code",
   "execution_count": 7,
   "id": "5ea5af6e",
   "metadata": {},
   "outputs": [
    {
     "name": "stdout",
     "output_type": "stream",
     "text": [
      "1\n",
      "2\n",
      "3\n",
      "bad\n"
     ]
    }
   ],
   "source": [
    "x,y,z=int(input()),int(input()),int(input())\n",
    "if x-z==y:\n",
    "    print('good')\n",
    "else:\n",
    "    print('bad')"
   ]
  },
  {
   "cell_type": "markdown",
   "id": "24cf91bc",
   "metadata": {},
   "source": [
    "### PPA - 5"
   ]
  },
  {
   "cell_type": "code",
   "execution_count": 22,
   "id": "8b362df4",
   "metadata": {},
   "outputs": [
    {
     "name": "stdout",
     "output_type": "stream",
     "text": [
      "100\n",
      "1 2 3\n",
      "5 6 29\n",
      "6 9 45\n",
      "7 15 76\n"
     ]
    }
   ],
   "source": [
    "n=int(input())\n",
    "for x in range(1,n,1):\n",
    "    for y in range(x+1,n):\n",
    "        for z in range(y+1,n):\n",
    "            if x<y and y<z:\n",
    "                if x**4+y**3==z**2:\n",
    "                    print(x,y,z)\n",
    "                "
   ]
  },
  {
   "cell_type": "markdown",
   "id": "11787e3b",
   "metadata": {},
   "source": [
    "### PPA - 6"
   ]
  },
  {
   "cell_type": "code",
   "execution_count": 9,
   "id": "90280cd8",
   "metadata": {},
   "outputs": [
    {
     "name": "stdout",
     "output_type": "stream",
     "text": [
      "aeiou\n",
      "this is python program\n",
      "ths s pythn prgrm\n"
     ]
    }
   ],
   "source": [
    "s1=str(input())\n",
    "s2=str(input())\n",
    "s3=s2\n",
    "for i in range(len(s1)):\n",
    "    for j in range(len(s2)):\n",
    "        if s1[i]==s2[j]:\n",
    "            c=s2[j]\n",
    "            s3=s3.replace(c,'')\n",
    "        else:\n",
    "            continue\n",
    "print(s3)"
   ]
  },
  {
   "cell_type": "markdown",
   "id": "4b9234d6",
   "metadata": {},
   "source": [
    "### GrPA 1"
   ]
  },
  {
   "cell_type": "code",
   "execution_count": 12,
   "id": "30eed9d1",
   "metadata": {},
   "outputs": [
    {
     "name": "stdout",
     "output_type": "stream",
     "text": [
      "5\n",
      "35\n"
     ]
    }
   ],
   "source": [
    "n=int(input())\n",
    "sum=0\n",
    "for i in range(n):\n",
    "    i+=1\n",
    "    for j in range(1,i+1):\n",
    "        sum=sum+j\n",
    "print(sum)        "
   ]
  },
  {
   "cell_type": "markdown",
   "id": "b48ead32",
   "metadata": {},
   "source": [
    "### GrPA 2"
   ]
  },
  {
   "cell_type": "code",
   "execution_count": null,
   "id": "a640c02d",
   "metadata": {},
   "outputs": [
    {
     "name": "stdout",
     "output_type": "stream",
     "text": [
      "871286\n",
      "2\n",
      "13\n",
      "23\n",
      "31\n",
      "47\n"
     ]
    }
   ],
   "source": [
    "n=int(input())   #positive integer greater than or equal to 2\n",
    "for i in range(1,n+1):\n",
    "    bool=True\n",
    "    for j in range(1,i+1):\n",
    "        if j>1 and j<i:\n",
    "            if i%j==0:\n",
    "                bool=False\n",
    "                break\n",
    "            else:\n",
    "                continue\n",
    "        else:\n",
    "            pass\n",
    "    if bool==True and i>1:\n",
    "        if n%i==0:\n",
    "            print(i)\n",
    "        else:\n",
    "            pass\n",
    "    else:\n",
    "        pass"
   ]
  },
  {
   "cell_type": "markdown",
   "id": "be622cf2",
   "metadata": {},
   "source": [
    "### GrPA 3"
   ]
  },
  {
   "cell_type": "code",
   "execution_count": 4,
   "id": "db520dc3",
   "metadata": {},
   "outputs": [
    {
     "name": "stdout",
     "output_type": "stream",
     "text": [
      "Bharatnatyam\n",
      "aaaabhmnrtty\n"
     ]
    }
   ],
   "source": [
    "alpha='abcdefghijklmnopqrstuvwxyz'\n",
    "s=input().lower()\n",
    "snew=''\n",
    "for char in alpha:\n",
    "    for i in range(len(s)):\n",
    "        if char==s[i]:\n",
    "            snew=snew+char\n",
    "print(snew)        "
   ]
  },
  {
   "cell_type": "markdown",
   "id": "b993bc42",
   "metadata": {},
   "source": [
    "### GrPA 4"
   ]
  },
  {
   "cell_type": "code",
   "execution_count": 3,
   "id": "eba59125",
   "metadata": {},
   "outputs": [
    {
     "name": "stdout",
     "output_type": "stream",
     "text": [
      "this is python program\n",
      "i\n",
      "s\n",
      "i\n",
      " \n",
      "h\n",
      "n\n",
      "o\n",
      "r\n"
     ]
    }
   ],
   "source": [
    "s=input()\n",
    "n=len(s)\n",
    "for i in range(1,n):\n",
    "    bool=True\n",
    "    for j in range(1,i+1):\n",
    "        if j>1 and j<i:\n",
    "            if i%j==0:\n",
    "                bool=False\n",
    "                break\n",
    "            else:\n",
    "                continue\n",
    "        else:\n",
    "            pass\n",
    "    if bool==True and i>1:\n",
    "        print(s[i])\n",
    "    else:\n",
    "        pass"
   ]
  },
  {
   "cell_type": "markdown",
   "id": "512ce594",
   "metadata": {},
   "source": [
    "### GrPA 5"
   ]
  },
  {
   "cell_type": "code",
   "execution_count": 26,
   "id": "f7fdcb08",
   "metadata": {},
   "outputs": [
    {
     "name": "stdout",
     "output_type": "stream",
     "text": [
      "9168049419\n",
      "valid\n"
     ]
    }
   ],
   "source": [
    "pn=input()\n",
    "if pn.isdigit() is False:\n",
    "    print('invalid')\n",
    "    \n",
    "elif len(pn)==10:\n",
    "    if pn[0]=='6' or pn[0]=='7' or pn[0]=='8' or pn[0]=='9':\n",
    "        for i in range(len(pn)):\n",
    "            count=1\n",
    "            for j in range(len(pn)):\n",
    "                if i!=j and pn[i]==pn[j]:\n",
    "                    count+=1\n",
    "                else:\n",
    "                    continue\n",
    "        if count>7:\n",
    "            print('invalid')\n",
    "        else:\n",
    "            count=1\n",
    "            for i in range(len(pn)-1):\n",
    "                if pn[i+1]==pn[i]:\n",
    "                    count+=1\n",
    "                else:\n",
    "                    count=0\n",
    "            if count>5:\n",
    "                print('invalid')\n",
    "            else:\n",
    "                print('valid')\n",
    "    else:\n",
    "        print('invalid')\n",
    "else:\n",
    "    print('invalid')"
   ]
  }
 ],
 "metadata": {
  "kernelspec": {
   "display_name": "Python 3",
   "language": "python",
   "name": "python3"
  },
  "language_info": {
   "codemirror_mode": {
    "name": "ipython",
    "version": 3
   },
   "file_extension": ".py",
   "mimetype": "text/x-python",
   "name": "python",
   "nbconvert_exporter": "python",
   "pygments_lexer": "ipython3",
   "version": "3.9.4"
  }
 },
 "nbformat": 4,
 "nbformat_minor": 5
}
