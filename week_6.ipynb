{
 "cells": [
  {
   "cell_type": "markdown",
   "id": "fec7a3e1",
   "metadata": {},
   "source": [
    "<h1 align='center'>Programming in Python</h1>\n",
    "<h1 align='center'>Week - 6</h1>"
   ]
  },
  {
   "cell_type": "markdown",
   "id": "c5d77fd5",
   "metadata": {},
   "source": [
    "## LISTS AND SETS"
   ]
  },
  {
   "cell_type": "code",
   "execution_count": 1,
   "id": "d5a260ae",
   "metadata": {},
   "outputs": [],
   "source": [
    "y={1,7,6,2,4,8,1,2}   #set"
   ]
  },
  {
   "cell_type": "code",
   "execution_count": 2,
   "id": "6249375f",
   "metadata": {},
   "outputs": [
    {
     "data": {
      "text/plain": [
       "set"
      ]
     },
     "execution_count": 2,
     "metadata": {},
     "output_type": "execute_result"
    }
   ],
   "source": [
    "type(y)"
   ]
  },
  {
   "cell_type": "code",
   "execution_count": 3,
   "id": "b81e91d1",
   "metadata": {},
   "outputs": [
    {
     "name": "stdout",
     "output_type": "stream",
     "text": [
      "{1, 2, 4, 6, 7, 8}\n"
     ]
    }
   ],
   "source": [
    "print(y)"
   ]
  },
  {
   "cell_type": "code",
   "execution_count": 4,
   "id": "b84631c0",
   "metadata": {},
   "outputs": [
    {
     "data": {
      "text/plain": [
       "True"
      ]
     },
     "execution_count": 4,
     "metadata": {},
     "output_type": "execute_result"
    }
   ],
   "source": [
    "2 in y"
   ]
  },
  {
   "cell_type": "code",
   "execution_count": 5,
   "id": "a27bd683",
   "metadata": {},
   "outputs": [
    {
     "data": {
      "text/plain": [
       "False"
      ]
     },
     "execution_count": 5,
     "metadata": {},
     "output_type": "execute_result"
    }
   ],
   "source": [
    "10 in y"
   ]
  },
  {
   "cell_type": "code",
   "execution_count": 6,
   "id": "ed744f95",
   "metadata": {},
   "outputs": [],
   "source": [
    "l=list(range(10000))"
   ]
  },
  {
   "cell_type": "code",
   "execution_count": 7,
   "id": "a946d0fe",
   "metadata": {},
   "outputs": [
    {
     "name": "stdout",
     "output_type": "stream",
     "text": [
      "{0, 1, 2, 3, 4, 5, 6, 7, 8, 9}\n"
     ]
    }
   ],
   "source": [
    "s=set(range(10))\n",
    "print(s)"
   ]
  },
  {
   "cell_type": "code",
   "execution_count": 8,
   "id": "9c308db5",
   "metadata": {},
   "outputs": [],
   "source": [
    "s=set(range(10000))   #Set takes more time to run than list."
   ]
  },
  {
   "cell_type": "code",
   "execution_count": 9,
   "id": "d26af52f",
   "metadata": {},
   "outputs": [
    {
     "data": {
      "text/plain": [
       "False"
      ]
     },
     "execution_count": 9,
     "metadata": {},
     "output_type": "execute_result"
    }
   ],
   "source": [
    "-1 in l    #Data structure list is slow while searching through the list."
   ]
  },
  {
   "cell_type": "code",
   "execution_count": 10,
   "id": "7fe324ef",
   "metadata": {},
   "outputs": [
    {
     "data": {
      "text/plain": [
       "False"
      ]
     },
     "execution_count": 10,
     "metadata": {},
     "output_type": "execute_result"
    }
   ],
   "source": [
    "-1 in s    #Data structure set is very fast while searching through the set."
   ]
  },
  {
   "cell_type": "markdown",
   "id": "4a60d1c3",
   "metadata": {},
   "source": [
    "### Sets are very fast. Why to use lists then?"
   ]
  },
  {
   "cell_type": "code",
   "execution_count": 11,
   "id": "398ad6e6",
   "metadata": {},
   "outputs": [],
   "source": [
    "import random as r\n",
    "import math as m\n",
    "import numpy as np\n",
    "import sys"
   ]
  },
  {
   "cell_type": "code",
   "execution_count": 12,
   "id": "61534844",
   "metadata": {},
   "outputs": [],
   "source": [
    "l=[]\n",
    "l1=[0]\n",
    "l2=[0,1]"
   ]
  },
  {
   "cell_type": "code",
   "execution_count": 13,
   "id": "a2b802ef",
   "metadata": {},
   "outputs": [
    {
     "data": {
      "text/plain": [
       "56"
      ]
     },
     "execution_count": 13,
     "metadata": {},
     "output_type": "execute_result"
    }
   ],
   "source": [
    "sys.getsizeof(l)"
   ]
  },
  {
   "cell_type": "code",
   "execution_count": 14,
   "id": "4f6e23fc",
   "metadata": {},
   "outputs": [
    {
     "data": {
      "text/plain": [
       "64"
      ]
     },
     "execution_count": 14,
     "metadata": {},
     "output_type": "execute_result"
    }
   ],
   "source": [
    "sys.getsizeof(l1)"
   ]
  },
  {
   "cell_type": "code",
   "execution_count": 15,
   "id": "62ac2b65",
   "metadata": {},
   "outputs": [
    {
     "data": {
      "text/plain": [
       "72"
      ]
     },
     "execution_count": 15,
     "metadata": {},
     "output_type": "execute_result"
    }
   ],
   "source": [
    "sys.getsizeof(l2)"
   ]
  },
  {
   "cell_type": "code",
   "execution_count": 16,
   "id": "71560b44",
   "metadata": {},
   "outputs": [
    {
     "name": "stdout",
     "output_type": "stream",
     "text": [
      "[0, 1, 2, 3, 4, 5, 6, 7, 8, 9, 10, 11, 12, 13, 14, 15, 16, 17, 18, 19, 20, 21, 22, 23, 24, 25, 26, 27, 28, 29, 30, 31, 32, 33, 34, 35, 36, 37, 38, 39, 40, 41, 42, 43, 44, 45, 46, 47, 48, 49, 50, 51, 52, 53, 54, 55, 56, 57, 58, 59, 60, 61, 62, 63, 64, 65, 66, 67, 68, 69, 70, 71, 72, 73, 74, 75, 76, 77, 78, 79, 80, 81, 82, 83, 84, 85, 86, 87, 88, 89, 90, 91, 92, 93, 94, 95, 96, 97, 98, 99]\n"
     ]
    }
   ],
   "source": [
    "x=list(range(100))\n",
    "print(x)"
   ]
  },
  {
   "cell_type": "code",
   "execution_count": 17,
   "id": "23781d2b",
   "metadata": {},
   "outputs": [
    {
     "name": "stdout",
     "output_type": "stream",
     "text": [
      "{0, 1, 2, 3, 4, 5, 6, 7, 8, 9, 10, 11, 12, 13, 14, 15, 16, 17, 18, 19, 20, 21, 22, 23, 24, 25, 26, 27, 28, 29, 30, 31, 32, 33, 34, 35, 36, 37, 38, 39, 40, 41, 42, 43, 44, 45, 46, 47, 48, 49, 50, 51, 52, 53, 54, 55, 56, 57, 58, 59, 60, 61, 62, 63, 64, 65, 66, 67, 68, 69, 70, 71, 72, 73, 74, 75, 76, 77, 78, 79, 80, 81, 82, 83, 84, 85, 86, 87, 88, 89, 90, 91, 92, 93, 94, 95, 96, 97, 98, 99}\n"
     ]
    }
   ],
   "source": [
    "s=set(range(100))\n",
    "print(s)"
   ]
  },
  {
   "cell_type": "code",
   "execution_count": 18,
   "id": "73fb7f6f",
   "metadata": {},
   "outputs": [
    {
     "name": "stdout",
     "output_type": "stream",
     "text": [
      "856\n"
     ]
    }
   ],
   "source": [
    "print(sys.getsizeof(x))"
   ]
  },
  {
   "cell_type": "code",
   "execution_count": 19,
   "id": "18df39e6",
   "metadata": {},
   "outputs": [
    {
     "name": "stdout",
     "output_type": "stream",
     "text": [
      "8408\n"
     ]
    }
   ],
   "source": [
    "print(sys.getsizeof(s))"
   ]
  },
  {
   "cell_type": "code",
   "execution_count": 20,
   "id": "97e4fe3c",
   "metadata": {},
   "outputs": [],
   "source": [
    "st=set(range(10))"
   ]
  },
  {
   "cell_type": "code",
   "execution_count": 21,
   "id": "3831af84",
   "metadata": {},
   "outputs": [
    {
     "name": "stdout",
     "output_type": "stream",
     "text": [
      "{0, 1, 2, 3, 4, 5, 6, 7, 8, 9}\n"
     ]
    }
   ],
   "source": [
    "print(st)"
   ]
  },
  {
   "cell_type": "markdown",
   "id": "33a5ba92",
   "metadata": {},
   "source": [
    "**Sets are truly immutable as we can't even add lists or tuples(containing lists) or dictionaries in set.**"
   ]
  },
  {
   "cell_type": "code",
   "execution_count": 22,
   "id": "61c89d56",
   "metadata": {},
   "outputs": [],
   "source": [
    "A={1,3,5}\n",
    "B={1,2,3,4,5}"
   ]
  },
  {
   "cell_type": "code",
   "execution_count": 23,
   "id": "6e5d00d1",
   "metadata": {},
   "outputs": [
    {
     "name": "stdout",
     "output_type": "stream",
     "text": [
      "True\n"
     ]
    }
   ],
   "source": [
    "print(A.issubset(B))"
   ]
  },
  {
   "cell_type": "code",
   "execution_count": 24,
   "id": "3bd2971f",
   "metadata": {},
   "outputs": [
    {
     "name": "stdout",
     "output_type": "stream",
     "text": [
      "True\n"
     ]
    }
   ],
   "source": [
    "print(B.issuperset(A))"
   ]
  },
  {
   "cell_type": "code",
   "execution_count": 25,
   "id": "fc7e3b22",
   "metadata": {},
   "outputs": [
    {
     "name": "stdout",
     "output_type": "stream",
     "text": [
      "Using method: {1, 2, 3, 4, 5}\n",
      "Using operator: {1, 2, 3, 4, 5}\n"
     ]
    }
   ],
   "source": [
    "C1=A.union(B)\n",
    "C2=A|B\n",
    "print('Using method:', C1)\n",
    "print('Using operator:',C2)"
   ]
  },
  {
   "cell_type": "code",
   "execution_count": 26,
   "id": "a16e4d7d",
   "metadata": {},
   "outputs": [
    {
     "name": "stdout",
     "output_type": "stream",
     "text": [
      "{1, 2, 3, 4, 5} {1, 2, 3, 4, 5}\n"
     ]
    }
   ],
   "source": [
    "C3=A.intersection(B)\n",
    "C4=A & B\n",
    "print(C1,C2)"
   ]
  },
  {
   "cell_type": "code",
   "execution_count": 27,
   "id": "fba3c673",
   "metadata": {},
   "outputs": [
    {
     "name": "stdout",
     "output_type": "stream",
     "text": [
      "{2, 4} {2, 4}\n"
     ]
    }
   ],
   "source": [
    "C5 = B.difference(A)\n",
    "C6 = B - A \n",
    "print(C5,C6)"
   ]
  },
  {
   "cell_type": "markdown",
   "id": "11d42281",
   "metadata": {},
   "source": [
    "### Although sets are fast, they take up a lot of memory which is a disadvantage.\n",
    "### Another disadvantage of sets are that set objects are not subscriptable."
   ]
  },
  {
   "cell_type": "markdown",
   "id": "984b3577",
   "metadata": {},
   "source": [
    "## DICTIONARIES"
   ]
  },
  {
   "cell_type": "code",
   "execution_count": 28,
   "id": "6c1bccbc",
   "metadata": {},
   "outputs": [],
   "source": [
    "d={}\n",
    "d['reeshabh']=9168049419\n",
    "d['ramya']=7878787878\n",
    "d['ravi']=3434343434"
   ]
  },
  {
   "cell_type": "code",
   "execution_count": 29,
   "id": "61a25073",
   "metadata": {},
   "outputs": [
    {
     "name": "stdout",
     "output_type": "stream",
     "text": [
      "{'reeshabh': 9168049419, 'ramya': 7878787878, 'ravi': 3434343434}\n"
     ]
    }
   ],
   "source": [
    "print(d)"
   ]
  },
  {
   "cell_type": "code",
   "execution_count": 30,
   "id": "c30b6729",
   "metadata": {},
   "outputs": [
    {
     "data": {
      "text/plain": [
       "dict"
      ]
     },
     "execution_count": 30,
     "metadata": {},
     "output_type": "execute_result"
    }
   ],
   "source": [
    "type(d)"
   ]
  },
  {
   "cell_type": "code",
   "execution_count": 31,
   "id": "54c2b9ec",
   "metadata": {},
   "outputs": [
    {
     "name": "stdout",
     "output_type": "stream",
     "text": [
      "['It was Monday morning. Swaminathan was reluctant to open his eyes. He considered Monday specially unpleasant in the calendar. After the delicious freedom of Saturday and Sunday, it was difficult to get into the Monday mood of work and discipline. He shuddered at the very thought of school: that dismal yellow building; the fire-eyed Vedanayagam, his class-teacher; and the Head Master with his thin long cane....']\n"
     ]
    }
   ],
   "source": [
    " with open('sample3.txt') as d:\n",
    "        line=d.readlines()\n",
    "print(line)"
   ]
  },
  {
   "cell_type": "code",
   "execution_count": 32,
   "id": "e9ae4e4a",
   "metadata": {},
   "outputs": [],
   "source": [
    "s=line[0]"
   ]
  },
  {
   "cell_type": "code",
   "execution_count": 33,
   "id": "f831f6df",
   "metadata": {},
   "outputs": [],
   "source": [
    "malgudi=s.split(' ')"
   ]
  },
  {
   "cell_type": "code",
   "execution_count": 34,
   "id": "0a52d61c",
   "metadata": {},
   "outputs": [
    {
     "name": "stdout",
     "output_type": "stream",
     "text": [
      "['It', 'was', 'Monday', 'morning.', 'Swaminathan', 'was', 'reluctant', 'to', 'open', 'his', 'eyes.', 'He', 'considered', 'Monday', 'specially', 'unpleasant', 'in', 'the', 'calendar.', 'After', 'the', 'delicious', 'freedom', 'of', 'Saturday', 'and', 'Sunday,', 'it', 'was', 'difficult', 'to', 'get', 'into', 'the', 'Monday', 'mood', 'of', 'work', 'and', 'discipline.', 'He', 'shuddered', 'at', 'the', 'very', 'thought', 'of', 'school:', 'that', 'dismal', 'yellow', 'building;', 'the', 'fire-eyed', 'Vedanayagam,', 'his', 'class-teacher;', 'and', 'the', 'Head', 'Master', 'with', 'his', 'thin', 'long', 'cane....']\n"
     ]
    }
   ],
   "source": [
    "print(malgudi)"
   ]
  },
  {
   "cell_type": "code",
   "execution_count": 101,
   "id": "6211ccd4",
   "metadata": {},
   "outputs": [],
   "source": [
    "def remove(words,x):\n",
    "    for i in range(len(words)):\n",
    "        y=words[i]\n",
    "        for j in range(len(y)):\n",
    "            words[i]=y.replace(x,'')\n",
    "    return words"
   ]
  },
  {
   "cell_type": "code",
   "execution_count": 102,
   "id": "45e7ef85",
   "metadata": {},
   "outputs": [
    {
     "data": {
      "text/plain": [
       "['It',\n",
       " 'was',\n",
       " 'Monday',\n",
       " 'morning',\n",
       " 'Swaminathan',\n",
       " 'was',\n",
       " 'reluctant',\n",
       " 'to',\n",
       " 'open',\n",
       " 'his',\n",
       " 'eyes',\n",
       " 'He',\n",
       " 'considered',\n",
       " 'Monday',\n",
       " 'specially',\n",
       " 'unpleasant',\n",
       " 'in',\n",
       " 'the',\n",
       " 'calendar',\n",
       " 'After',\n",
       " 'the',\n",
       " 'delicious',\n",
       " 'freedom',\n",
       " 'of',\n",
       " 'Saturday',\n",
       " 'and',\n",
       " 'Sunday',\n",
       " 'it',\n",
       " 'was',\n",
       " 'difficult',\n",
       " 'to',\n",
       " 'get',\n",
       " 'into',\n",
       " 'the',\n",
       " 'Monday',\n",
       " 'mood',\n",
       " 'of',\n",
       " 'work',\n",
       " 'and',\n",
       " 'discipline',\n",
       " 'He',\n",
       " 'shuddered',\n",
       " 'at',\n",
       " 'the',\n",
       " 'very',\n",
       " 'thought',\n",
       " 'of',\n",
       " 'school',\n",
       " 'that',\n",
       " 'dismal',\n",
       " 'yellow',\n",
       " 'building',\n",
       " 'the',\n",
       " 'fire-eyed',\n",
       " 'Vedanayagam',\n",
       " 'his',\n",
       " 'class-teacher',\n",
       " 'and',\n",
       " 'the',\n",
       " 'Head',\n",
       " 'Master',\n",
       " 'with',\n",
       " 'his',\n",
       " 'thin',\n",
       " 'long',\n",
       " 'cane']"
      ]
     },
     "execution_count": 102,
     "metadata": {},
     "output_type": "execute_result"
    }
   ],
   "source": [
    "remove(malgudi,',')\n",
    "remove(malgudi,'.')\n",
    "remove(malgudi,';')\n",
    "remove(malgudi,':')\n",
    "remove(malgudi,'!')"
   ]
  },
  {
   "cell_type": "code",
   "execution_count": 37,
   "id": "b68e6ffb",
   "metadata": {},
   "outputs": [
    {
     "name": "stdout",
     "output_type": "stream",
     "text": [
      "{'very', 'open', 'of', 'discipline', 'It', 'yellow', 'He', 'it', 'cane', 'specially', 'Sunday', 'get', 'thin', 'considered', 'shuddered', 'fire-eyed', 'eyes', 'at', 'building', 'work', 'Saturday', 'Master', 'with', 'dismal', 'into', 'unpleasant', 'Vedanayagam', 'that', 'Head', 'thought', 'in', 'freedom', 'Monday', 'his', 'Swaminathan', 'to', 'class-teacher', 'the', 'and', 'morning', 'school', 'calendar', 'reluctant', 'After', 'mood', 'difficult', 'delicious', 'long', 'was'}\n"
     ]
    }
   ],
   "source": [
    "s=set(malgudi)\n",
    "print(s)"
   ]
  },
  {
   "cell_type": "code",
   "execution_count": 38,
   "id": "935a5fa4",
   "metadata": {},
   "outputs": [
    {
     "data": {
      "text/plain": [
       "66"
      ]
     },
     "execution_count": 38,
     "metadata": {},
     "output_type": "execute_result"
    }
   ],
   "source": [
    "len(malgudi)"
   ]
  },
  {
   "cell_type": "code",
   "execution_count": 39,
   "id": "d06920af",
   "metadata": {},
   "outputs": [
    {
     "data": {
      "text/plain": [
       "49"
      ]
     },
     "execution_count": 39,
     "metadata": {},
     "output_type": "execute_result"
    }
   ],
   "source": [
    "len(s)"
   ]
  },
  {
   "cell_type": "code",
   "execution_count": 40,
   "id": "f1d55e44",
   "metadata": {},
   "outputs": [
    {
     "name": "stdout",
     "output_type": "stream",
     "text": [
      "It was Monday morning Swaminathan was reluctant to open his eyes He considered Monday specially unpleasant in the calendar After the delicious freedom of Saturday and Sunday it was difficult to get into the Monday mood of work and discipline He shuddered at the very thought of school that dismal yellow building the fire-eyed Vedanayagam his class-teacher and the Head Master with his thin long cane "
     ]
    }
   ],
   "source": [
    "for x in malgudi:\n",
    "    print(x,end=' ')"
   ]
  },
  {
   "cell_type": "code",
   "execution_count": 41,
   "id": "c3bd6955",
   "metadata": {},
   "outputs": [
    {
     "name": "stdout",
     "output_type": "stream",
     "text": [
      "{'very': 0, 'open': 0, 'of': 0, 'discipline': 0, 'It': 0, 'yellow': 0, 'He': 0, 'it': 0, 'cane': 0, 'specially': 0, 'Sunday': 0, 'get': 0, 'thin': 0, 'considered': 0, 'shuddered': 0, 'fire-eyed': 0, 'eyes': 0, 'at': 0, 'building': 0, 'work': 0, 'Saturday': 0, 'Master': 0, 'with': 0, 'dismal': 0, 'into': 0, 'unpleasant': 0, 'Vedanayagam': 0, 'that': 0, 'Head': 0, 'thought': 0, 'in': 0, 'freedom': 0, 'Monday': 0, 'his': 0, 'Swaminathan': 0, 'to': 0, 'class-teacher': 0, 'the': 0, 'and': 0, 'morning': 0, 'school': 0, 'calendar': 0, 'reluctant': 0, 'After': 0, 'mood': 0, 'difficult': 0, 'delicious': 0, 'long': 0, 'was': 0}\n"
     ]
    }
   ],
   "source": [
    "d={}\n",
    "for x in s:\n",
    "    d[x]=0\n",
    "print(d)"
   ]
  },
  {
   "cell_type": "code",
   "execution_count": 42,
   "id": "26cd8cbb",
   "metadata": {},
   "outputs": [
    {
     "name": "stdout",
     "output_type": "stream",
     "text": [
      "{'very': 1, 'open': 1, 'of': 3, 'discipline': 1, 'It': 1, 'yellow': 1, 'He': 2, 'it': 1, 'cane': 1, 'specially': 1, 'Sunday': 1, 'get': 1, 'thin': 1, 'considered': 1, 'shuddered': 1, 'fire-eyed': 1, 'eyes': 1, 'at': 1, 'building': 1, 'work': 1, 'Saturday': 1, 'Master': 1, 'with': 1, 'dismal': 1, 'into': 1, 'unpleasant': 1, 'Vedanayagam': 1, 'that': 1, 'Head': 1, 'thought': 1, 'in': 1, 'freedom': 1, 'Monday': 3, 'his': 3, 'Swaminathan': 1, 'to': 2, 'class-teacher': 1, 'the': 6, 'and': 3, 'morning': 1, 'school': 1, 'calendar': 1, 'reluctant': 1, 'After': 1, 'mood': 1, 'difficult': 1, 'delicious': 1, 'long': 1, 'was': 3}\n"
     ]
    }
   ],
   "source": [
    "for x in malgudi:\n",
    "    d[x]+=1\n",
    "print(d)"
   ]
  },
  {
   "cell_type": "code",
   "execution_count": 43,
   "id": "29b978a4",
   "metadata": {},
   "outputs": [
    {
     "name": "stdout",
     "output_type": "stream",
     "text": [
      "3\n"
     ]
    }
   ],
   "source": [
    "print(d['was'])"
   ]
  },
  {
   "cell_type": "code",
   "execution_count": 44,
   "id": "409a7cef",
   "metadata": {},
   "outputs": [
    {
     "name": "stdout",
     "output_type": "stream",
     "text": [
      "3\n"
     ]
    }
   ],
   "source": [
    "print(d['and'])"
   ]
  },
  {
   "cell_type": "code",
   "execution_count": 45,
   "id": "4a070df2",
   "metadata": {},
   "outputs": [
    {
     "name": "stdout",
     "output_type": "stream",
     "text": [
      "3\n"
     ]
    }
   ],
   "source": [
    "print(d['his'])"
   ]
  },
  {
   "cell_type": "code",
   "execution_count": 46,
   "id": "f36674c6",
   "metadata": {},
   "outputs": [
    {
     "name": "stdout",
     "output_type": "stream",
     "text": [
      "6\n"
     ]
    }
   ],
   "source": [
    "print(d['the'])"
   ]
  },
  {
   "cell_type": "code",
   "execution_count": 47,
   "id": "e51fed73",
   "metadata": {},
   "outputs": [
    {
     "name": "stdout",
     "output_type": "stream",
     "text": [
      "the\n",
      "6\n"
     ]
    }
   ],
   "source": [
    "# Find the word with max frequency and it's frequency\n",
    "max_freq=0\n",
    "max_freq_word=None\n",
    "for x in d:\n",
    "    if d[x]>max_freq:\n",
    "        max_freq=d[x]\n",
    "        max_freq_word=x\n",
    "print(max_freq_word)\n",
    "print(max_freq)"
   ]
  },
  {
   "cell_type": "code",
   "execution_count": 48,
   "id": "e7b074b5",
   "metadata": {},
   "outputs": [],
   "source": [
    "d={0:0,1:1,2:2,3:3,4:4,5:5,6:6,7:7,8:8}"
   ]
  },
  {
   "cell_type": "code",
   "execution_count": 49,
   "id": "be6614f6",
   "metadata": {},
   "outputs": [
    {
     "name": "stdout",
     "output_type": "stream",
     "text": [
      "dict_keys([0, 1, 2, 3, 4, 5, 6, 7, 8])\n"
     ]
    }
   ],
   "source": [
    "print(d.keys())"
   ]
  },
  {
   "cell_type": "code",
   "execution_count": 50,
   "id": "fa306065",
   "metadata": {},
   "outputs": [
    {
     "name": "stdout",
     "output_type": "stream",
     "text": [
      "dict_values([0, 1, 2, 3, 4, 5, 6, 7, 8])\n"
     ]
    }
   ],
   "source": [
    "print(d.values())"
   ]
  },
  {
   "cell_type": "code",
   "execution_count": 51,
   "id": "a9161092",
   "metadata": {},
   "outputs": [
    {
     "name": "stdout",
     "output_type": "stream",
     "text": [
      "dict_items([(0, 0), (1, 1), (2, 2), (3, 3), (4, 4), (5, 5), (6, 6), (7, 7), (8, 8)])\n"
     ]
    }
   ],
   "source": [
    "print(d.items())"
   ]
  },
  {
   "cell_type": "markdown",
   "id": "fc82cf88",
   "metadata": {},
   "source": [
    "## TUPLES"
   ]
  },
  {
   "cell_type": "code",
   "execution_count": 52,
   "id": "1c7c433e",
   "metadata": {},
   "outputs": [],
   "source": [
    "l=list(range(10))"
   ]
  },
  {
   "cell_type": "code",
   "execution_count": 53,
   "id": "5abb693f",
   "metadata": {},
   "outputs": [],
   "source": [
    "l.append(100)"
   ]
  },
  {
   "cell_type": "code",
   "execution_count": 54,
   "id": "69e2401e",
   "metadata": {},
   "outputs": [
    {
     "name": "stdout",
     "output_type": "stream",
     "text": [
      "[0, 1, 2, 3, 4, 5, 6, 7, 8, 9, 100]\n"
     ]
    }
   ],
   "source": [
    "print(l)"
   ]
  },
  {
   "cell_type": "code",
   "execution_count": 55,
   "id": "39bcad67",
   "metadata": {},
   "outputs": [],
   "source": [
    "t=tuple(range(10))"
   ]
  },
  {
   "cell_type": "code",
   "execution_count": 56,
   "id": "7528c577",
   "metadata": {},
   "outputs": [
    {
     "name": "stdout",
     "output_type": "stream",
     "text": [
      "(0, 1, 2, 3, 4, 5, 6, 7, 8, 9)\n"
     ]
    }
   ],
   "source": [
    "print(t)"
   ]
  },
  {
   "cell_type": "markdown",
   "id": "982d13c3",
   "metadata": {},
   "source": [
    "A Tuple has only two possibilities: _**tuple.count**_ and _**tuple.index**_"
   ]
  },
  {
   "cell_type": "markdown",
   "id": "17ff6140",
   "metadata": {},
   "source": [
    "### What is the use of a tuple then?\n",
    "- Sometimes we don't want things to be changed. It's better if they are fixed.\n",
    "- Tuples take up th ele "
   ]
  },
  {
   "cell_type": "code",
   "execution_count": 57,
   "id": "bd230b58",
   "metadata": {},
   "outputs": [
    {
     "data": {
      "text/plain": [
       "'abcdefghijklmnopqrstuvwxyzABCDEFGHIJKLMNOPQRSTUVWXYZ'"
      ]
     },
     "execution_count": 57,
     "metadata": {},
     "output_type": "execute_result"
    }
   ],
   "source": [
    "import string\n",
    "string.ascii_letters"
   ]
  },
  {
   "cell_type": "code",
   "execution_count": 58,
   "id": "7e100dcc",
   "metadata": {},
   "outputs": [
    {
     "data": {
      "text/plain": [
       "'abcdefghijklmnopqrstuvwxyz'"
      ]
     },
     "execution_count": 58,
     "metadata": {},
     "output_type": "execute_result"
    }
   ],
   "source": [
    "string.ascii_lowercase"
   ]
  },
  {
   "cell_type": "code",
   "execution_count": 59,
   "id": "00628319",
   "metadata": {},
   "outputs": [],
   "source": [
    "s=string.ascii_letters"
   ]
  },
  {
   "cell_type": "code",
   "execution_count": 60,
   "id": "bb36bd0a",
   "metadata": {},
   "outputs": [
    {
     "data": {
      "text/plain": [
       "{'A',\n",
       " 'B',\n",
       " 'C',\n",
       " 'D',\n",
       " 'E',\n",
       " 'F',\n",
       " 'G',\n",
       " 'H',\n",
       " 'I',\n",
       " 'J',\n",
       " 'K',\n",
       " 'L',\n",
       " 'M',\n",
       " 'N',\n",
       " 'O',\n",
       " 'P',\n",
       " 'Q',\n",
       " 'R',\n",
       " 'S',\n",
       " 'T',\n",
       " 'U',\n",
       " 'V',\n",
       " 'W',\n",
       " 'X',\n",
       " 'Y',\n",
       " 'Z',\n",
       " 'a',\n",
       " 'b',\n",
       " 'c',\n",
       " 'd',\n",
       " 'e',\n",
       " 'f',\n",
       " 'g',\n",
       " 'h',\n",
       " 'i',\n",
       " 'j',\n",
       " 'k',\n",
       " 'l',\n",
       " 'm',\n",
       " 'n',\n",
       " 'o',\n",
       " 'p',\n",
       " 'q',\n",
       " 'r',\n",
       " 's',\n",
       " 't',\n",
       " 'u',\n",
       " 'v',\n",
       " 'w',\n",
       " 'x',\n",
       " 'y',\n",
       " 'z'}"
      ]
     },
     "execution_count": 60,
     "metadata": {},
     "output_type": "execute_result"
    }
   ],
   "source": [
    "set(s)"
   ]
  },
  {
   "cell_type": "code",
   "execution_count": 61,
   "id": "da1b4b5c",
   "metadata": {},
   "outputs": [
    {
     "name": "stdout",
     "output_type": "stream",
     "text": [
      "{'s', 'a', 'N', 'l', 'c', 'E', 'x', 'z', 'b', 'h', 'u', 'Y', 'm', 'i', 'o', 'k', 'J', 'e', 'j', 'd', 'A', 'n', 'O', 'y', 'p', 'W', 'Z', 'H', 't', 'I', 'L', 'M', 'V', 'Q', 'q', 'w', 'X', 'v', 'T', 'g', 'D', 'f', 'C', 'B', 'K', 'U', 'R', 'r', 'G', 'S', 'P', 'F'}\n"
     ]
    }
   ],
   "source": [
    "s=set(s)\n",
    "print(s)"
   ]
  },
  {
   "cell_type": "code",
   "execution_count": 62,
   "id": "7e3b4818",
   "metadata": {},
   "outputs": [
    {
     "name": "stdout",
     "output_type": "stream",
     "text": [
      "('s', 'a', 'N', 'l', 'c', 'E', 'x', 'z', 'b', 'h', 'u', 'Y', 'm', 'i', 'o', 'k', 'J', 'e', 'j', 'd', 'A', 'n', 'O', 'y', 'p', 'W', 'Z', 'H', 't', 'I', 'L', 'M', 'V', 'Q', 'q', 'w', 'X', 'v', 'T', 'g', 'D', 'f', 'C', 'B', 'K', 'U', 'R', 'r', 'G', 'S', 'P', 'F')\n"
     ]
    }
   ],
   "source": [
    "alpha=tuple(s)\n",
    "print(alpha)"
   ]
  },
  {
   "cell_type": "code",
   "execution_count": 63,
   "id": "d61f8ce6",
   "metadata": {},
   "outputs": [],
   "source": [
    "alpha=tuple(list(string.ascii_letters))"
   ]
  },
  {
   "cell_type": "code",
   "execution_count": 64,
   "id": "4e85c945",
   "metadata": {},
   "outputs": [
    {
     "name": "stdout",
     "output_type": "stream",
     "text": [
      "('a', 'b', 'c', 'd', 'e', 'f', 'g', 'h', 'i', 'j', 'k', 'l', 'm', 'n', 'o', 'p', 'q', 'r', 's', 't', 'u', 'v', 'w', 'x', 'y', 'z', 'A', 'B', 'C', 'D', 'E', 'F', 'G', 'H', 'I', 'J', 'K', 'L', 'M', 'N', 'O', 'P', 'Q', 'R', 'S', 'T', 'U', 'V', 'W', 'X', 'Y', 'Z')\n"
     ]
    }
   ],
   "source": [
    "print(alpha)"
   ]
  },
  {
   "cell_type": "code",
   "execution_count": 65,
   "id": "8889b0de",
   "metadata": {},
   "outputs": [],
   "source": [
    "x='reeshabh&%IndiaBharatMaharashtraPunjab$#Bhubaneswar'"
   ]
  },
  {
   "cell_type": "code",
   "execution_count": 66,
   "id": "f3e78ff3",
   "metadata": {},
   "outputs": [],
   "source": [
    "l=list(x)"
   ]
  },
  {
   "cell_type": "code",
   "execution_count": 67,
   "id": "19ee3bc1",
   "metadata": {},
   "outputs": [
    {
     "name": "stdout",
     "output_type": "stream",
     "text": [
      "['r', 'e', 'e', 's', 'h', 'a', 'b', 'h', '&', '%', 'I', 'n', 'd', 'i', 'a', 'B', 'h', 'a', 'r', 'a', 't', 'M', 'a', 'h', 'a', 'r', 'a', 's', 'h', 't', 'r', 'a', 'P', 'u', 'n', 'j', 'a', 'b', '$', '#', 'B', 'h', 'u', 'b', 'a', 'n', 'e', 's', 'w', 'a', 'r']\n"
     ]
    }
   ],
   "source": [
    "print(l)"
   ]
  },
  {
   "cell_type": "code",
   "execution_count": 68,
   "id": "9600b8ee",
   "metadata": {},
   "outputs": [],
   "source": [
    "r=[]\n",
    "for p in l:\n",
    "    if p in alpha:\n",
    "        r.append(p)"
   ]
  },
  {
   "cell_type": "code",
   "execution_count": 69,
   "id": "18616908",
   "metadata": {},
   "outputs": [
    {
     "name": "stdout",
     "output_type": "stream",
     "text": [
      "['r', 'e', 'e', 's', 'h', 'a', 'b', 'h', 'I', 'n', 'd', 'i', 'a', 'B', 'h', 'a', 'r', 'a', 't', 'M', 'a', 'h', 'a', 'r', 'a', 's', 'h', 't', 'r', 'a', 'P', 'u', 'n', 'j', 'a', 'b', 'B', 'h', 'u', 'b', 'a', 'n', 'e', 's', 'w', 'a', 'r']\n"
     ]
    }
   ],
   "source": [
    "print(r)"
   ]
  },
  {
   "cell_type": "code",
   "execution_count": 70,
   "id": "ceac0bed",
   "metadata": {},
   "outputs": [],
   "source": [
    "import sys"
   ]
  },
  {
   "cell_type": "code",
   "execution_count": 71,
   "id": "fd93f454",
   "metadata": {},
   "outputs": [
    {
     "name": "stdout",
     "output_type": "stream",
     "text": [
      "856\n"
     ]
    }
   ],
   "source": [
    "a=list(range(100))\n",
    "print(sys.getsizeof(a))"
   ]
  },
  {
   "cell_type": "code",
   "execution_count": 72,
   "id": "338ac40b",
   "metadata": {},
   "outputs": [
    {
     "name": "stdout",
     "output_type": "stream",
     "text": [
      "8408\n"
     ]
    }
   ],
   "source": [
    "b=set(range(100))\n",
    "print(sys.getsizeof(b))"
   ]
  },
  {
   "cell_type": "code",
   "execution_count": 73,
   "id": "d6e9dca0",
   "metadata": {},
   "outputs": [
    {
     "name": "stdout",
     "output_type": "stream",
     "text": [
      "840\n"
     ]
    }
   ],
   "source": [
    "#TUPLE TAKES THE LEAST SYSTEM MEMORY\n",
    "c=tuple(range(100))\n",
    "print(sys.getsizeof(c))"
   ]
  },
  {
   "cell_type": "markdown",
   "id": "1fa9622f",
   "metadata": {},
   "source": [
    "## Graded Assignment 6 Rough work"
   ]
  },
  {
   "cell_type": "code",
   "execution_count": 74,
   "id": "ac1757be",
   "metadata": {},
   "outputs": [],
   "source": [
    "import random as r\n",
    "\n",
    "nums=[]\n",
    "for i in range(10000):\n",
    "    nums.append(r.randint(1,10))"
   ]
  },
  {
   "cell_type": "code",
   "execution_count": 75,
   "id": "631b05c3",
   "metadata": {},
   "outputs": [],
   "source": [
    "numset=set(nums)"
   ]
  },
  {
   "cell_type": "code",
   "execution_count": 76,
   "id": "e339a7d1",
   "metadata": {},
   "outputs": [
    {
     "name": "stdout",
     "output_type": "stream",
     "text": [
      "{1, 2, 3, 4, 5, 6, 7, 8, 9, 10}\n"
     ]
    }
   ],
   "source": [
    "print(numset)"
   ]
  },
  {
   "cell_type": "code",
   "execution_count": 77,
   "id": "a70d16e5",
   "metadata": {},
   "outputs": [
    {
     "name": "stdout",
     "output_type": "stream",
     "text": [
      "{1: 0, 2: 0, 3: 0, 4: 0, 5: 0, 6: 0, 7: 0, 8: 0, 9: 0, 10: 0}\n"
     ]
    }
   ],
   "source": [
    "P={}\n",
    "for x in numset:\n",
    "    P[x]=0\n",
    "print(P)"
   ]
  },
  {
   "cell_type": "code",
   "execution_count": 78,
   "id": "15ecee54",
   "metadata": {},
   "outputs": [
    {
     "name": "stdout",
     "output_type": "stream",
     "text": [
      "{1: 979, 2: 968, 3: 989, 4: 1055, 5: 1017, 6: 1043, 7: 991, 8: 971, 9: 987, 10: 1000}\n"
     ]
    }
   ],
   "source": [
    "for e in nums:\n",
    "    P[e]+=1\n",
    "print(P)"
   ]
  },
  {
   "cell_type": "code",
   "execution_count": 79,
   "id": "444f9f5b",
   "metadata": {},
   "outputs": [
    {
     "name": "stdout",
     "output_type": "stream",
     "text": [
      "True\n"
     ]
    }
   ],
   "source": [
    "def check(P,N):\n",
    "    S=0\n",
    "    for num in P:\n",
    "        S+=P[num]\n",
    "    return S==N\n",
    "print(check(P,len(nums)))"
   ]
  },
  {
   "cell_type": "code",
   "execution_count": 80,
   "id": "1b698f0d",
   "metadata": {},
   "outputs": [
    {
     "data": {
      "text/plain": [
       "0.1017"
      ]
     },
     "execution_count": 80,
     "metadata": {},
     "output_type": "execute_result"
    }
   ],
   "source": [
    "P[5]/10000"
   ]
  },
  {
   "cell_type": "code",
   "execution_count": 81,
   "id": "ecf77ad6",
   "metadata": {},
   "outputs": [
    {
     "name": "stdout",
     "output_type": "stream",
     "text": [
      "(4, 1055)\n"
     ]
    }
   ],
   "source": [
    "def most_freq(P):\n",
    "    maxi=0\n",
    "    freq_num=None\n",
    "    for key in P:\n",
    "        if P[key]>=maxi:\n",
    "            maxi=P[key]\n",
    "            freq_num=key\n",
    "    return freq_num,maxi\n",
    "print(most_freq(P))"
   ]
  },
  {
   "cell_type": "code",
   "execution_count": 82,
   "id": "d6780cc6",
   "metadata": {},
   "outputs": [
    {
     "name": "stdout",
     "output_type": "stream",
     "text": [
      "True\n"
     ]
    }
   ],
   "source": [
    "def streak(nums):\n",
    "    flag=False\n",
    "    for i in range(len(nums)-4):\n",
    "        if nums[i]==5:\n",
    "            if nums[i:i+5]==[5,5,5,5,5]:\n",
    "                flag=True\n",
    "                break\n",
    "    return flag\n",
    "l=[1,2,5,5,5,5,5,1,2,10]\n",
    "print(streak(l))"
   ]
  },
  {
   "cell_type": "code",
   "execution_count": 83,
   "id": "49af962d",
   "metadata": {},
   "outputs": [
    {
     "data": {
      "text/plain": [
       "False"
      ]
     },
     "execution_count": 83,
     "metadata": {},
     "output_type": "execute_result"
    }
   ],
   "source": [
    "streak(nums)"
   ]
  },
  {
   "cell_type": "code",
   "execution_count": 84,
   "id": "09e069e1",
   "metadata": {},
   "outputs": [
    {
     "name": "stdout",
     "output_type": "stream",
     "text": [
      "False\n"
     ]
    }
   ],
   "source": [
    "#Alternate way\n",
    "def streak(nums):\n",
    "    if 5 not in nums:\n",
    "        return False\n",
    "    count=0\n",
    "    for num in nums:\n",
    "        if num==5:\n",
    "            count+=1\n",
    "            if count==5:\n",
    "                return True\n",
    "        else:\n",
    "            count=0\n",
    "    return False\n",
    "\n",
    "print(streak(nums))\n",
    "                "
   ]
  },
  {
   "cell_type": "code",
   "execution_count": 85,
   "id": "1f4da2a1",
   "metadata": {},
   "outputs": [
    {
     "name": "stdout",
     "output_type": "stream",
     "text": [
      "<class 'tuple'> <class 'int'> <class 'tuple'> <class 'tuple'> <class 'tuple'>\n"
     ]
    }
   ],
   "source": [
    "a=(1,2,3)\n",
    "b=(10)\n",
    "c=20,\n",
    "d=tuple([10])\n",
    "f=1,2,3\n",
    "print(type(a),type(b),type(c),type(d),type(f))"
   ]
  },
  {
   "cell_type": "code",
   "execution_count": 86,
   "id": "93088f1e",
   "metadata": {},
   "outputs": [
    {
     "data": {
      "text/plain": [
       "set"
      ]
     },
     "execution_count": 86,
     "metadata": {},
     "output_type": "execute_result"
    }
   ],
   "source": [
    "s1={}\n",
    "type(s)"
   ]
  },
  {
   "cell_type": "code",
   "execution_count": 87,
   "id": "24c77c30",
   "metadata": {},
   "outputs": [
    {
     "data": {
      "text/plain": [
       "set"
      ]
     },
     "execution_count": 87,
     "metadata": {},
     "output_type": "execute_result"
    }
   ],
   "source": [
    "s2=set([1])\n",
    "type(s2)"
   ]
  },
  {
   "cell_type": "code",
   "execution_count": 88,
   "id": "e9b05ae9",
   "metadata": {},
   "outputs": [
    {
     "data": {
      "text/plain": [
       "set"
      ]
     },
     "execution_count": 88,
     "metadata": {},
     "output_type": "execute_result"
    }
   ],
   "source": [
    "s3={1}\n",
    "type(s3)"
   ]
  },
  {
   "cell_type": "code",
   "execution_count": 89,
   "id": "cffd4cee",
   "metadata": {},
   "outputs": [
    {
     "data": {
      "text/plain": [
       "set"
      ]
     },
     "execution_count": 89,
     "metadata": {},
     "output_type": "execute_result"
    }
   ],
   "source": [
    "s4=set()\n",
    "type(s4)"
   ]
  },
  {
   "cell_type": "code",
   "execution_count": 90,
   "id": "5623ac65",
   "metadata": {},
   "outputs": [
    {
     "data": {
      "text/plain": [
       "set"
      ]
     },
     "execution_count": 90,
     "metadata": {},
     "output_type": "execute_result"
    }
   ],
   "source": [
    "a=1,\n",
    "s6=set(a)\n",
    "type(s6)"
   ]
  },
  {
   "cell_type": "code",
   "execution_count": 91,
   "id": "f9958faa",
   "metadata": {},
   "outputs": [
    {
     "name": "stdout",
     "output_type": "stream",
     "text": [
      "{1}\n"
     ]
    }
   ],
   "source": [
    "print(s6)"
   ]
  },
  {
   "cell_type": "markdown",
   "id": "5e4c5ab6",
   "metadata": {},
   "source": [
    "### Scores list"
   ]
  },
  {
   "cell_type": "code",
   "execution_count": 92,
   "id": "da1d4621",
   "metadata": {},
   "outputs": [],
   "source": [
    "scores = [ { 'Chemistry': 78,\n",
    "    'CityTown': 'Erode',\n",
    "    'DateOfBirth': '7 Nov',\n",
    "    'Gender': 'M',\n",
    "    'Mathematics': 68,\n",
    "    'Name': 'Bhuvanesh',\n",
    "    'Physics': 64,\n",
    "    'SeqNo': 0,\n",
    "    'Total': 210},\n",
    "    { 'Chemistry': 91,\n",
    "    'CityTown': 'Salem',\n",
    "    'DateOfBirth': '3 Jun',\n",
    "    'Gender': 'M',\n",
    "    'Mathematics': 62,\n",
    "    'Name': 'Harish',\n",
    "    'Physics': 45,\n",
    "    'SeqNo': 1,\n",
    "    'Total': 198},\n",
    "    { 'Chemistry': 77,\n",
    "    'CityTown': 'Chennai',\n",
    "    'DateOfBirth': '4 Jan',\n",
    "    'Gender': 'M',\n",
    "    'Mathematics': 57,\n",
    "    'Name': 'Shashank',\n",
    "    'Physics': 54,\n",
    "    'SeqNo': 2,\n",
    "    'Total': 188},\n",
    "    { 'Chemistry': 78,\n",
    "    'CityTown': 'Chennai',\n",
    "    'DateOfBirth': '5 May',\n",
    "    'Gender': 'F',\n",
    "    'Mathematics': 42,\n",
    "    'Name': 'Rida',\n",
    "    'Physics': 53,\n",
    "    'SeqNo': 3,\n",
    "    'Total': 173},\n",
    "    { 'Chemistry': 89,\n",
    "    'CityTown': 'Madurai',\n",
    "    'DateOfBirth': '17 Nov',\n",
    "    'Gender': 'F',\n",
    "    'Mathematics': 87,\n",
    "    'Name': 'Ritika',\n",
    "    'Physics': 64,\n",
    "    'SeqNo': 4,\n",
    "    'Total': 240},\n",
    "    { 'Chemistry': 84,\n",
    "    'CityTown': 'Chennai',\n",
    "    'DateOfBirth': '8 Feb',\n",
    "    'Gender': 'F',\n",
    "    'Mathematics': 71,\n",
    "    'Name': 'Akshaya',\n",
    "    'Physics': 92,\n",
    "    'SeqNo': 5,\n",
    "    'Total': 247},\n",
    "    { 'Chemistry': 87,\n",
    "    'CityTown': 'Ambur',\n",
    "    'DateOfBirth': '23 Mar',\n",
    "    'Gender': 'M',\n",
    "    'Mathematics': 81,\n",
    "    'Name': 'Sameer',\n",
    "    'Physics': 82,\n",
    "    'SeqNo': 6,\n",
    "    'Total': 250},\n",
    "    { 'Chemistry': 76,\n",
    "    'CityTown': 'Vellore',\n",
    "    'DateOfBirth': '15 Mar',\n",
    "    'Gender': 'M',\n",
    "    'Mathematics': 84,\n",
    "    'Name': 'Aditya',\n",
    "    'Physics': 92,\n",
    "    'SeqNo': 7,\n",
    "    'Total': 252},\n",
    "    { 'Chemistry': 51,\n",
    "    'CityTown': 'Bengaluru',\n",
    "    'DateOfBirth': '28 Feb',\n",
    "    'Gender': 'M',\n",
    "    'Mathematics': 74,\n",
    "    'Name': 'Surya',\n",
    "    'Physics': 64,\n",
    "    'SeqNo': 8,\n",
    "    'Total': 189},\n",
    "    { 'Chemistry': 73,\n",
    "    'CityTown': 'Bengaluru',\n",
    "    'DateOfBirth': '6 Dec',\n",
    "    'Gender': 'M',\n",
    "    'Mathematics': 63,\n",
    "    'Name': 'Clarence',\n",
    "    'Physics': 88,\n",
    "    'SeqNo': 9,\n",
    "    'Total': 224},\n",
    "    { 'Chemistry': 68,\n",
    "    'CityTown': 'Chennai',\n",
    "    'DateOfBirth': '12 Jan',\n",
    "    'Gender': 'F',\n",
    "    'Mathematics': 64,\n",
    "    'Name': 'Kavya',\n",
    "    'Physics': 72,\n",
    "    'SeqNo': 10,\n",
    "    'Total': 204},\n",
    "    { 'Chemistry': 92,\n",
    "    'CityTown': 'Bengaluru',\n",
    "    'DateOfBirth': '30 Apr',\n",
    "    'Gender': 'M',\n",
    "    'Mathematics': 97,\n",
    "    'Name': 'Rahul',\n",
    "    'Physics': 92,\n",
    "    'SeqNo': 11,\n",
    "    'Total': 281},\n",
    "    { 'Chemistry': 71,\n",
    "    'CityTown': 'Chennai',\n",
    "    'DateOfBirth': '14 Jan',\n",
    "    'Gender': 'F',\n",
    "    'Mathematics': 52,\n",
    "    'Name': 'Srinidhi',\n",
    "    'Physics': 64,\n",
    "    'SeqNo': 12,\n",
    "    'Total': 187},\n",
    "    { 'Chemistry': 89,\n",
    "    'CityTown': 'Madurai',\n",
    "    'DateOfBirth': '6 May',\n",
    "    'Gender': 'M',\n",
    "    'Mathematics': 65,\n",
    "    'Name': 'Gopi',\n",
    "    'Physics': 73,\n",
    "    'SeqNo': 13,\n",
    "    'Total': 227},\n",
    "    { 'Chemistry': 93,\n",
    "    'CityTown': 'Trichy',\n",
    "    'DateOfBirth': '23 July',\n",
    "    'Gender': 'F',\n",
    "    'Mathematics': 89,\n",
    "    'Name': 'Sophia',\n",
    "    'Physics': 62,\n",
    "    'SeqNo': 14,\n",
    "    'Total': 244},\n",
    "    { 'Chemistry': 90,\n",
    "    'CityTown': 'Theni',\n",
    "    'DateOfBirth': '22 Sep',\n",
    "    'Gender': 'F',\n",
    "    'Mathematics': 76,\n",
    "    'Name': 'Goutami',\n",
    "    'Physics': 58,\n",
    "    'SeqNo': 15,\n",
    "    'Total': 224},\n",
    "    { 'Chemistry': 43,\n",
    "    'CityTown': 'Trichy',\n",
    "    'DateOfBirth': '30 Dec',\n",
    "    'Gender': 'M',\n",
    "    'Mathematics': 87,\n",
    "    'Name': 'Tauseef',\n",
    "    'Physics': 86,\n",
    "    'SeqNo': 16,\n",
    "    'Total': 216},\n",
    "    { 'Chemistry': 67,\n",
    "    'CityTown': 'Chennai',\n",
    "    'DateOfBirth': '14 Dec',\n",
    "    'Gender': 'M',\n",
    "    'Mathematics': 62,\n",
    "    'Name': 'Arshad',\n",
    "    'Physics': 81,\n",
    "    'SeqNo': 17,\n",
    "    'Total': 210},\n",
    "    { 'Chemistry': 97,\n",
    "    'CityTown': 'Erode',\n",
    "    'DateOfBirth': '9 Oct',\n",
    "    'Gender': 'F',\n",
    "    'Mathematics': 72,\n",
    "    'Name': 'Abirami',\n",
    "    'Physics': 92,\n",
    "    'SeqNo': 18,\n",
    "    'Total': 261},\n",
    "    { 'Chemistry': 62,\n",
    "    'CityTown': 'Trichy',\n",
    "    'DateOfBirth': '30 Aug',\n",
    "    'Gender': 'M',\n",
    "    'Mathematics': 56,\n",
    "    'Name': 'Vetrivel',\n",
    "    'Physics': 78,\n",
    "    'SeqNo': 19,\n",
    "    'Total': 196},\n",
    "    { 'Chemistry': 91,\n",
    "    'CityTown': 'Vellore',\n",
    "    'DateOfBirth': '17 Sep',\n",
    "    'Gender': 'M',\n",
    "    'Mathematics': 93,\n",
    "    'Name': 'Kalyan',\n",
    "    'Physics': 68,\n",
    "    'SeqNo': 20,\n",
    "    'Total': 252},\n",
    "    { 'Chemistry': 74,\n",
    "    'CityTown': 'Bengaluru',\n",
    "    'DateOfBirth': '15 Mar',\n",
    "    'Gender': 'F',\n",
    "    'Mathematics': 78,\n",
    "    'Name': 'Monika',\n",
    "    'Physics': 69,\n",
    "    'SeqNo': 21,\n",
    "    'Total': 221},\n",
    "    { 'Chemistry': 57,\n",
    "    'CityTown': 'Nagercoil',\n",
    "    'DateOfBirth': '17 Jul',\n",
    "    'Gender': 'F',\n",
    "    'Mathematics': 62,\n",
    "    'Name': 'Priya',\n",
    "    'Physics': 62,\n",
    "    'SeqNo': 22,\n",
    "    'Total': 181},\n",
    "    { 'Chemistry': 88,\n",
    "    'CityTown': 'Bengaluru',\n",
    "    'DateOfBirth': '13 May',\n",
    "    'Gender': 'F',\n",
    "    'Mathematics': 97,\n",
    "    'Name': 'Deepika',\n",
    "    'Physics': 91,\n",
    "    'SeqNo': 23,\n",
    "    'Total': 276},\n",
    "    { 'Chemistry': 58,\n",
    "    'CityTown': 'Madurai',\n",
    "    'DateOfBirth': '26 Dec',\n",
    "    'Gender': 'M',\n",
    "    'Mathematics': 44,\n",
    "    'Name': 'Siddharth',\n",
    "    'Physics': 72,\n",
    "    'SeqNo': 24,\n",
    "    'Total': 174},\n",
    "    { 'Chemistry': 92,\n",
    "    'CityTown': 'Chennai',\n",
    "    'DateOfBirth': '16 May',\n",
    "    'Gender': 'F',\n",
    "    'Mathematics': 87,\n",
    "    'Name': 'Geeta',\n",
    "    'Physics': 75,\n",
    "    'SeqNo': 25,\n",
    "    'Total': 254},\n",
    "    { 'Chemistry': 82,\n",
    "    'CityTown': 'Chennai',\n",
    "    'DateOfBirth': '22 Jul',\n",
    "    'Gender': 'M',\n",
    "    'Mathematics': 74,\n",
    "    'Name': 'JK',\n",
    "    'Physics': 71,\n",
    "    'SeqNo': 26,\n",
    "    'Total': 227},\n",
    "    { 'Chemistry': 52,\n",
    "    'CityTown': 'Madurai',\n",
    "    'DateOfBirth': '4 Mar',\n",
    "    'Gender': 'M',\n",
    "    'Mathematics': 81,\n",
    "    'Name': 'Jagan',\n",
    "    'Physics': 76,\n",
    "    'SeqNo': 27,\n",
    "    'Total': 209},\n",
    "    { 'Chemistry': 83,\n",
    "    'CityTown': 'Madurai',\n",
    "    'DateOfBirth': '10 Sep',\n",
    "    'Gender': 'F',\n",
    "    'Mathematics': 74,\n",
    "    'Name': 'Nisha',\n",
    "    'Physics': 83,\n",
    "    'SeqNo': 28,\n",
    "    'Total': 240},\n",
    "    { 'Chemistry': 81,\n",
    "    'CityTown': 'Vellore',\n",
    "    'DateOfBirth': '13 Oct',\n",
    "    'Gender': 'M',\n",
    "    'Mathematics': 72,\n",
    "    'Name': 'Naveen',\n",
    "    'Physics': 66,\n",
    "    'SeqNo': 29,\n",
    "    'Total': 219}]"
   ]
  },
  {
   "cell_type": "code",
   "execution_count": 93,
   "id": "601ee2a7",
   "metadata": {},
   "outputs": [
    {
     "data": {
      "text/plain": [
       "dict"
      ]
     },
     "execution_count": 93,
     "metadata": {},
     "output_type": "execute_result"
    }
   ],
   "source": [
    "scores_dict = {1:{ 'Chemistry': 78,\n",
    "    'CityTown': 'Erode',\n",
    "    'DateOfBirth': '7 Nov',\n",
    "    'Gender': 'M',\n",
    "    'Mathematics': 68,\n",
    "    'Name': 'Bhuvanesh',\n",
    "    'Physics': 64,\n",
    "    'SeqNo': 0,\n",
    "    'Total': 210},\n",
    "    2:{ 'Chemistry': 91,\n",
    "    'CityTown': 'Salem',\n",
    "    'DateOfBirth': '3 Jun',\n",
    "    'Gender': 'M',\n",
    "    'Mathematics': 62,\n",
    "    'Name': 'Harish',\n",
    "    'Physics': 45,\n",
    "    'SeqNo': 1,\n",
    "    'Total': 198}}\n",
    "type(scores_dict)"
   ]
  },
  {
   "cell_type": "code",
   "execution_count": 94,
   "id": "73ba1cb7",
   "metadata": {},
   "outputs": [
    {
     "data": {
      "text/plain": [
       "\"for i in range(1,3):\\n    scores_dict[i]['Chem'] = scores_dict[i].pop('Chemistry')\\nprint(scores_dict)\""
      ]
     },
     "execution_count": 94,
     "metadata": {},
     "output_type": "execute_result"
    }
   ],
   "source": [
    "'''for i in range(1,3):\n",
    "    scores_dict[i]['Chem'] = scores_dict[i].pop('Chemistry')\n",
    "print(scores_dict)'''"
   ]
  },
  {
   "cell_type": "code",
   "execution_count": 95,
   "id": "9944bd56",
   "metadata": {},
   "outputs": [],
   "source": [
    "scores_dict[5]={'Chemistry': 91,\n",
    "    'CityTown': 'Salem',\n",
    "    'DateOfBirth': '3 Jun',\n",
    "    'Gender': 'M',\n",
    "    'Mathematics': 62,\n",
    "    'Name': 'Anushka',\n",
    "    'Physics': 45,\n",
    "    'SeqNo': 1,\n",
    "    'Total': 198}"
   ]
  },
  {
   "cell_type": "code",
   "execution_count": 96,
   "id": "40b058e7",
   "metadata": {},
   "outputs": [
    {
     "data": {
      "text/plain": [
       "{1: {'Chemistry': 78,\n",
       "  'CityTown': 'Erode',\n",
       "  'DateOfBirth': '7 Nov',\n",
       "  'Gender': 'M',\n",
       "  'Mathematics': 68,\n",
       "  'Name': 'Bhuvanesh',\n",
       "  'Physics': 64,\n",
       "  'SeqNo': 0,\n",
       "  'Total': 210},\n",
       " 2: {'Chemistry': 91,\n",
       "  'CityTown': 'Salem',\n",
       "  'DateOfBirth': '3 Jun',\n",
       "  'Gender': 'M',\n",
       "  'Mathematics': 62,\n",
       "  'Name': 'Harish',\n",
       "  'Physics': 45,\n",
       "  'SeqNo': 1,\n",
       "  'Total': 198},\n",
       " 5: {'Chemistry': 91,\n",
       "  'CityTown': 'Salem',\n",
       "  'DateOfBirth': '3 Jun',\n",
       "  'Gender': 'M',\n",
       "  'Mathematics': 62,\n",
       "  'Name': 'Anushka',\n",
       "  'Physics': 45,\n",
       "  'SeqNo': 1,\n",
       "  'Total': 198}}"
      ]
     },
     "execution_count": 96,
     "metadata": {},
     "output_type": "execute_result"
    }
   ],
   "source": [
    "scores_dict"
   ]
  },
  {
   "cell_type": "code",
   "execution_count": 97,
   "id": "423f1c4c",
   "metadata": {},
   "outputs": [
    {
     "name": "stdout",
     "output_type": "stream",
     "text": [
      "{1: {'Chemistry': 78, 'CityTown': 'Erode', 'DateOfBirth': '7 Nov', 'Gender': 'M', 'Mathematics': 68, 'Name': 'Bhuvanesh', 'Physics': 64, 'SeqNo': 0, 'Total': 210}, 2: {'Chemistry': 91, 'CityTown': 'Salem', 'DateOfBirth': '3 Jun', 'Gender': 'M', 'Mathematics': 62, 'Name': 'Harish', 'Physics': 45, 'SeqNo': 1, 'Total': 198}}\n"
     ]
    }
   ],
   "source": [
    "scores_dict.popitem()\n",
    "print(scores_dict)"
   ]
  },
  {
   "cell_type": "code",
   "execution_count": 98,
   "id": "f9f197f2",
   "metadata": {},
   "outputs": [
    {
     "data": {
      "text/plain": [
       "dict"
      ]
     },
     "execution_count": 98,
     "metadata": {},
     "output_type": "execute_result"
    }
   ],
   "source": [
    "type(scores_dict)"
   ]
  },
  {
   "cell_type": "code",
   "execution_count": 99,
   "id": "c2db3914",
   "metadata": {},
   "outputs": [],
   "source": [
    "del scores_dict[1]"
   ]
  },
  {
   "cell_type": "code",
   "execution_count": 100,
   "id": "c8840004",
   "metadata": {},
   "outputs": [
    {
     "data": {
      "text/plain": [
       "{2: {'Chemistry': 91,\n",
       "  'CityTown': 'Salem',\n",
       "  'DateOfBirth': '3 Jun',\n",
       "  'Gender': 'M',\n",
       "  'Mathematics': 62,\n",
       "  'Name': 'Harish',\n",
       "  'Physics': 45,\n",
       "  'SeqNo': 1,\n",
       "  'Total': 198}}"
      ]
     },
     "execution_count": 100,
     "metadata": {},
     "output_type": "execute_result"
    }
   ],
   "source": [
    "scores_dict"
   ]
  }
 ],
 "metadata": {
  "kernelspec": {
   "display_name": "Python 3",
   "language": "python",
   "name": "python3"
  },
  "language_info": {
   "codemirror_mode": {
    "name": "ipython",
    "version": 3
   },
   "file_extension": ".py",
   "mimetype": "text/x-python",
   "name": "python",
   "nbconvert_exporter": "python",
   "pygments_lexer": "ipython3",
   "version": "3.9.4"
  }
 },
 "nbformat": 4,
 "nbformat_minor": 5
}
