{
 "cells": [
  {
   "cell_type": "markdown",
   "id": "ac92821c",
   "metadata": {},
   "source": [
    "<h1 align=\"center\">Programming in Python</h1>\n",
    "<h3 align=\"center\">Week-2 Practice</h3>"
   ]
  },
  {
   "cell_type": "code",
   "execution_count": 10,
   "id": "afd17996",
   "metadata": {},
   "outputs": [
    {
     "name": "stdout",
     "output_type": "stream",
     "text": [
      "k\n"
     ]
    }
   ],
   "source": [
    "alpha='abcdefghijklmnopqrstuvwxyz'\n",
    "print(alpha[10])"
   ]
  },
  {
   "cell_type": "code",
   "execution_count": 11,
   "id": "8fdc516d",
   "metadata": {},
   "outputs": [
    {
     "name": "stdout",
     "output_type": "stream",
     "text": [
      "z\n"
     ]
    },
    {
     "ename": "IndexError",
     "evalue": "string index out of range",
     "output_type": "error",
     "traceback": [
      "\u001b[1;31m---------------------------------------------------------------------------\u001b[0m",
      "\u001b[1;31mIndexError\u001b[0m                                Traceback (most recent call last)",
      "\u001b[1;32m<ipython-input-11-a417eef30068>\u001b[0m in \u001b[0;36m<module>\u001b[1;34m\u001b[0m\n\u001b[0;32m      1\u001b[0m \u001b[0mi\u001b[0m\u001b[1;33m=\u001b[0m\u001b[1;36m25\u001b[0m\u001b[1;33m\u001b[0m\u001b[1;33m\u001b[0m\u001b[0m\n\u001b[0;32m      2\u001b[0m \u001b[0mprint\u001b[0m\u001b[1;33m(\u001b[0m\u001b[0malpha\u001b[0m\u001b[1;33m[\u001b[0m\u001b[0mi\u001b[0m\u001b[1;33m]\u001b[0m\u001b[1;33m)\u001b[0m\u001b[1;33m\u001b[0m\u001b[1;33m\u001b[0m\u001b[0m\n\u001b[1;32m----> 3\u001b[1;33m \u001b[0mprint\u001b[0m\u001b[1;33m(\u001b[0m\u001b[0malpha\u001b[0m\u001b[1;33m[\u001b[0m\u001b[0mi\u001b[0m\u001b[1;33m+\u001b[0m\u001b[1;36m1\u001b[0m\u001b[1;33m]\u001b[0m\u001b[1;33m)\u001b[0m\u001b[1;33m\u001b[0m\u001b[1;33m\u001b[0m\u001b[0m\n\u001b[0m\u001b[0;32m      4\u001b[0m \u001b[0mprint\u001b[0m\u001b[1;33m(\u001b[0m\u001b[0malpha\u001b[0m\u001b[1;33m[\u001b[0m\u001b[0mi\u001b[0m\u001b[1;33m+\u001b[0m\u001b[1;36m2\u001b[0m\u001b[1;33m]\u001b[0m\u001b[1;33m)\u001b[0m\u001b[1;33m\u001b[0m\u001b[1;33m\u001b[0m\u001b[0m\n\u001b[0;32m      5\u001b[0m \u001b[0mprint\u001b[0m\u001b[1;33m(\u001b[0m\u001b[0malpha\u001b[0m\u001b[1;33m[\u001b[0m\u001b[0mi\u001b[0m\u001b[1;33m+\u001b[0m\u001b[1;36m3\u001b[0m\u001b[1;33m]\u001b[0m\u001b[1;33m)\u001b[0m\u001b[1;33m\u001b[0m\u001b[1;33m\u001b[0m\u001b[0m\n",
      "\u001b[1;31mIndexError\u001b[0m: string index out of range"
     ]
    }
   ],
   "source": [
    "i=25\n",
    "print(alpha[i])\n",
    "print(alpha[i+1])\n",
    "print(alpha[i+2])\n",
    "print(alpha[i+3])"
   ]
  },
  {
   "cell_type": "markdown",
   "id": "781acc15",
   "metadata": {},
   "source": [
    "The error here shows that the no. of characters in the string is less than the index specified"
   ]
  },
  {
   "cell_type": "markdown",
   "id": "4abf4548",
   "metadata": {},
   "source": [
    "### The modulo operator saves us from getting tracebacks"
   ]
  },
  {
   "cell_type": "code",
   "execution_count": 16,
   "id": "c80e755d",
   "metadata": {
    "scrolled": true
   },
   "outputs": [
    {
     "name": "stdout",
     "output_type": "stream",
     "text": [
      "z\n",
      "a\n",
      "b\n",
      "c\n"
     ]
    }
   ],
   "source": [
    "i=25\n",
    "print(alpha[i%26])\n",
    "print(alpha[(i+1)%26])\n",
    "print(alpha[(i+2)%26])\n",
    "print(alpha[(i+3)%26])"
   ]
  },
  {
   "cell_type": "code",
   "execution_count": 17,
   "id": "86e4c8af",
   "metadata": {},
   "outputs": [
    {
     "data": {
      "text/plain": [
       "17"
      ]
     },
     "execution_count": 17,
     "metadata": {},
     "output_type": "execute_result"
    }
   ],
   "source": [
    "r='reeshabh' #I expect the output to be sfftibci\n",
    "alpha.index(r[0])"
   ]
  },
  {
   "cell_type": "code",
   "execution_count": 18,
   "id": "78f85450",
   "metadata": {},
   "outputs": [
    {
     "name": "stdout",
     "output_type": "stream",
     "text": [
      "s\n"
     ]
    }
   ],
   "source": [
    "print(alpha[((alpha.index(r[0]))+1)%26])"
   ]
  },
  {
   "cell_type": "code",
   "execution_count": 19,
   "id": "2c31729c",
   "metadata": {},
   "outputs": [
    {
     "name": "stdout",
     "output_type": "stream",
     "text": [
      "sfftibci\n"
     ]
    }
   ],
   "source": [
    "t=''\n",
    "k=1\n",
    "for i in range(len(r)):\n",
    "    t=t+alpha[((alpha.index(r[i]))+k)%26]\n",
    "print(t)\n",
    "    "
   ]
  },
  {
   "cell_type": "code",
   "execution_count": 20,
   "id": "47680447",
   "metadata": {},
   "outputs": [
    {
     "name": "stdout",
     "output_type": "stream",
     "text": [
      "2.302585092994046\n"
     ]
    }
   ],
   "source": [
    "import math\n",
    "print(math.log(10))"
   ]
  },
  {
   "cell_type": "code",
   "execution_count": 21,
   "id": "835e3fb5",
   "metadata": {},
   "outputs": [
    {
     "name": "stdout",
     "output_type": "stream",
     "text": [
      "1.0\n"
     ]
    }
   ],
   "source": [
    "print(math.sin(math.radians(90)))"
   ]
  },
  {
   "cell_type": "code",
   "execution_count": 22,
   "id": "8c89f06e",
   "metadata": {},
   "outputs": [
    {
     "name": "stdout",
     "output_type": "stream",
     "text": [
      "120\n"
     ]
    }
   ],
   "source": [
    "print(math.factorial(5))"
   ]
  },
  {
   "cell_type": "code",
   "execution_count": 23,
   "id": "d7913e14",
   "metadata": {},
   "outputs": [
    {
     "name": "stdout",
     "output_type": "stream",
     "text": [
      "346.41016151377545\n"
     ]
    }
   ],
   "source": [
    " print(math.sqrt(120000))"
   ]
  },
  {
   "cell_type": "code",
   "execution_count": 24,
   "id": "80babe4e",
   "metadata": {},
   "outputs": [
    {
     "name": "stdout",
     "output_type": "stream",
     "text": [
      "3.0\n"
     ]
    }
   ],
   "source": [
    "print(math.pow(27,1/3))"
   ]
  },
  {
   "cell_type": "code",
   "execution_count": 25,
   "id": "a58d9cec",
   "metadata": {},
   "outputs": [
    {
     "name": "stdout",
     "output_type": "stream",
     "text": [
      "0.7842369603079689\n"
     ]
    }
   ],
   "source": [
    "import random\n",
    "print(random.random()) #Gives a random numver between 0 and 1 "
   ]
  },
  {
   "cell_type": "markdown",
   "id": "0426e7fb",
   "metadata": {},
   "source": [
    "### Let us simulate a coin toss"
   ]
  },
  {
   "cell_type": "code",
   "execution_count": 26,
   "id": "9572d11d",
   "metadata": {},
   "outputs": [
    {
     "name": "stdout",
     "output_type": "stream",
     "text": [
      "Heads\n"
     ]
    }
   ],
   "source": [
    "a=random.random()\n",
    "if a<0.5:\n",
    "    print(\"Heads\")\n",
    "else:\n",
    "    print(\"Tails\")"
   ]
  },
  {
   "cell_type": "markdown",
   "id": "2dbdaeaf",
   "metadata": {},
   "source": [
    "### Let us simulate a die "
   ]
  },
  {
   "cell_type": "code",
   "execution_count": 27,
   "id": "7b68b798",
   "metadata": {},
   "outputs": [
    {
     "name": "stdout",
     "output_type": "stream",
     "text": [
      "5\n"
     ]
    }
   ],
   "source": [
    "print(random.randrange(1,7)) #7 is excluded in this function"
   ]
  },
  {
   "cell_type": "markdown",
   "id": "6f0b64db",
   "metadata": {},
   "source": [
    "### Simulate a pair of die"
   ]
  },
  {
   "cell_type": "code",
   "execution_count": 28,
   "id": "db8d5631",
   "metadata": {},
   "outputs": [
    {
     "name": "stdout",
     "output_type": "stream",
     "text": [
      "Your pair of dice is:  5\n"
     ]
    }
   ],
   "source": [
    "dice1=(random.randrange(1,7))\n",
    "dice2=(random.randrange(1,7))\n",
    "sum=dice1+dice2\n",
    "print(\"Your pair of dice is: \",sum)"
   ]
  },
  {
   "cell_type": "code",
   "execution_count": 29,
   "id": "fa9cdea3",
   "metadata": {},
   "outputs": [
    {
     "name": "stdout",
     "output_type": "stream",
     "text": [
      "    August 2021\n",
      "Mo Tu We Th Fr Sa Su\n",
      "                   1\n",
      " 2  3  4  5  6  7  8\n",
      " 9 10 11 12 13 14 15\n",
      "16 17 18 19 20 21 22\n",
      "23 24 25 26 27 28 29\n",
      "30 31\n",
      "\n"
     ]
    }
   ],
   "source": [
    "import calendar as c #Always import a library as a variable to save time.\n",
    "print(c.month(2021,8)) #Calendar of a particular month"
   ]
  },
  {
   "cell_type": "code",
   "execution_count": 31,
   "id": "5a634806",
   "metadata": {},
   "outputs": [
    {
     "name": "stdout",
     "output_type": "stream",
     "text": [
      "                                  2022\n",
      "\n",
      "      January                   February                   March\n",
      "Mo Tu We Th Fr Sa Su      Mo Tu We Th Fr Sa Su      Mo Tu We Th Fr Sa Su\n",
      "                1  2          1  2  3  4  5  6          1  2  3  4  5  6\n",
      " 3  4  5  6  7  8  9       7  8  9 10 11 12 13       7  8  9 10 11 12 13\n",
      "10 11 12 13 14 15 16      14 15 16 17 18 19 20      14 15 16 17 18 19 20\n",
      "17 18 19 20 21 22 23      21 22 23 24 25 26 27      21 22 23 24 25 26 27\n",
      "24 25 26 27 28 29 30      28                        28 29 30 31\n",
      "31\n",
      "\n",
      "       April                      May                       June\n",
      "Mo Tu We Th Fr Sa Su      Mo Tu We Th Fr Sa Su      Mo Tu We Th Fr Sa Su\n",
      "             1  2  3                         1             1  2  3  4  5\n",
      " 4  5  6  7  8  9 10       2  3  4  5  6  7  8       6  7  8  9 10 11 12\n",
      "11 12 13 14 15 16 17       9 10 11 12 13 14 15      13 14 15 16 17 18 19\n",
      "18 19 20 21 22 23 24      16 17 18 19 20 21 22      20 21 22 23 24 25 26\n",
      "25 26 27 28 29 30         23 24 25 26 27 28 29      27 28 29 30\n",
      "                          30 31\n",
      "\n",
      "        July                     August                  September\n",
      "Mo Tu We Th Fr Sa Su      Mo Tu We Th Fr Sa Su      Mo Tu We Th Fr Sa Su\n",
      "             1  2  3       1  2  3  4  5  6  7                1  2  3  4\n",
      " 4  5  6  7  8  9 10       8  9 10 11 12 13 14       5  6  7  8  9 10 11\n",
      "11 12 13 14 15 16 17      15 16 17 18 19 20 21      12 13 14 15 16 17 18\n",
      "18 19 20 21 22 23 24      22 23 24 25 26 27 28      19 20 21 22 23 24 25\n",
      "25 26 27 28 29 30 31      29 30 31                  26 27 28 29 30\n",
      "\n",
      "      October                   November                  December\n",
      "Mo Tu We Th Fr Sa Su      Mo Tu We Th Fr Sa Su      Mo Tu We Th Fr Sa Su\n",
      "                1  2          1  2  3  4  5  6                1  2  3  4\n",
      " 3  4  5  6  7  8  9       7  8  9 10 11 12 13       5  6  7  8  9 10 11\n",
      "10 11 12 13 14 15 16      14 15 16 17 18 19 20      12 13 14 15 16 17 18\n",
      "17 18 19 20 21 22 23      21 22 23 24 25 26 27      19 20 21 22 23 24 25\n",
      "24 25 26 27 28 29 30      28 29 30                  26 27 28 29 30 31\n",
      "31\n",
      "\n"
     ]
    }
   ],
   "source": [
    "print(c.calendar(2022)) #Calender for the entire year"
   ]
  },
  {
   "cell_type": "code",
   "execution_count": 32,
   "id": "d7b72b55",
   "metadata": {},
   "outputs": [
    {
     "name": "stdout",
     "output_type": "stream",
     "text": [
      "                                  2022\n",
      "\n",
      "      January                   February                   March\n",
      "Mo Tu We Th Fr Sa Su      Mo Tu We Th Fr Sa Su      Mo Tu We Th Fr Sa Su\n",
      "                1  2          1  2  3  4  5  6          1  2  3  4  5  6\n",
      " 3  4  5  6  7  8  9       7  8  9 10 11 12 13       7  8  9 10 11 12 13\n",
      "10 11 12 13 14 15 16      14 15 16 17 18 19 20      14 15 16 17 18 19 20\n",
      "17 18 19 20 21 22 23      21 22 23 24 25 26 27      21 22 23 24 25 26 27\n",
      "24 25 26 27 28 29 30      28                        28 29 30 31\n",
      "31\n",
      "\n",
      "       April                      May                       June\n",
      "Mo Tu We Th Fr Sa Su      Mo Tu We Th Fr Sa Su      Mo Tu We Th Fr Sa Su\n",
      "             1  2  3                         1             1  2  3  4  5\n",
      " 4  5  6  7  8  9 10       2  3  4  5  6  7  8       6  7  8  9 10 11 12\n",
      "11 12 13 14 15 16 17       9 10 11 12 13 14 15      13 14 15 16 17 18 19\n",
      "18 19 20 21 22 23 24      16 17 18 19 20 21 22      20 21 22 23 24 25 26\n",
      "25 26 27 28 29 30         23 24 25 26 27 28 29      27 28 29 30\n",
      "                          30 31\n",
      "\n",
      "        July                     August                  September\n",
      "Mo Tu We Th Fr Sa Su      Mo Tu We Th Fr Sa Su      Mo Tu We Th Fr Sa Su\n",
      "             1  2  3       1  2  3  4  5  6  7                1  2  3  4\n",
      " 4  5  6  7  8  9 10       8  9 10 11 12 13 14       5  6  7  8  9 10 11\n",
      "11 12 13 14 15 16 17      15 16 17 18 19 20 21      12 13 14 15 16 17 18\n",
      "18 19 20 21 22 23 24      22 23 24 25 26 27 28      19 20 21 22 23 24 25\n",
      "25 26 27 28 29 30 31      29 30 31                  26 27 28 29 30\n",
      "\n",
      "      October                   November                  December\n",
      "Mo Tu We Th Fr Sa Su      Mo Tu We Th Fr Sa Su      Mo Tu We Th Fr Sa Su\n",
      "                1  2          1  2  3  4  5  6                1  2  3  4\n",
      " 3  4  5  6  7  8  9       7  8  9 10 11 12 13       5  6  7  8  9 10 11\n",
      "10 11 12 13 14 15 16      14 15 16 17 18 19 20      12 13 14 15 16 17 18\n",
      "17 18 19 20 21 22 23      21 22 23 24 25 26 27      19 20 21 22 23 24 25\n",
      "24 25 26 27 28 29 30      28 29 30                  26 27 28 29 30 31\n",
      "31\n",
      "\n"
     ]
    }
   ],
   "source": [
    "from calendar import *\n",
    "print(calendar(2022)) #Differnece between this code and the earlier code is \n",
    "                      #in this code we have imported the entire contents of\n",
    "                      #of the calender library. So now we don't have to use \n",
    "                      #calender.calender() or calender.month()\n",
    "            #This is not an efficient way of using a library as we\n",
    "            #are unnecessarily loading the entire contents of the \n",
    "            #library and using only a few of the features of the library."
   ]
  },
  {
   "cell_type": "code",
   "execution_count": 33,
   "id": "bbacccc0",
   "metadata": {},
   "outputs": [
    {
     "name": "stdout",
     "output_type": "stream",
     "text": [
      "   November 2021\n",
      "Mo Tu We Th Fr Sa Su\n",
      " 1  2  3  4  5  6  7\n",
      " 8  9 10 11 12 13 14\n",
      "15 16 17 18 19 20 21\n",
      "22 23 24 25 26 27 28\n",
      "29 30\n",
      "\n"
     ]
    }
   ],
   "source": [
    "print(month(2021,11))"
   ]
  },
  {
   "cell_type": "code",
   "execution_count": 34,
   "id": "b7dacb29",
   "metadata": {},
   "outputs": [
    {
     "name": "stdout",
     "output_type": "stream",
     "text": [
      "    January 2023\n",
      "Mo Tu We Th Fr Sa Su\n",
      "                   1\n",
      " 2  3  4  5  6  7  8\n",
      " 9 10 11 12 13 14 15\n",
      "16 17 18 19 20 21 22\n",
      "23 24 25 26 27 28 29\n",
      "30 31\n",
      "\n"
     ]
    }
   ],
   "source": [
    "from calendar import month as m #Loading a particular feature instead of\n",
    "                                #loading the entire contents of the library.\n",
    "print(month(2023,1))"
   ]
  },
  {
   "cell_type": "markdown",
   "id": "bb61a5f6",
   "metadata": {},
   "source": [
    "<h2 align=\"center\">Graded and Practice Assignments</h2>"
   ]
  },
  {
   "cell_type": "code",
   "execution_count": 35,
   "id": "44850e46",
   "metadata": {},
   "outputs": [
    {
     "name": "stdout",
     "output_type": "stream",
     "text": [
      "1234\n",
      "1\n"
     ]
    }
   ],
   "source": [
    "a,b,c,d = input()\n",
    "print(a)"
   ]
  },
  {
   "cell_type": "code",
   "execution_count": 36,
   "id": "b1cdddda",
   "metadata": {},
   "outputs": [
    {
     "name": "stdout",
     "output_type": "stream",
     "text": [
      "2\n"
     ]
    }
   ],
   "source": [
    "print(b)"
   ]
  },
  {
   "cell_type": "code",
   "execution_count": 37,
   "id": "70189cc2",
   "metadata": {},
   "outputs": [
    {
     "name": "stdout",
     "output_type": "stream",
     "text": [
      "3\n",
      "4\n"
     ]
    }
   ],
   "source": [
    "print(c)\n",
    "print(d)"
   ]
  },
  {
   "cell_type": "code",
   "execution_count": 38,
   "id": "1914045a",
   "metadata": {},
   "outputs": [
    {
     "name": "stdout",
     "output_type": "stream",
     "text": [
      "True\n"
     ]
    }
   ],
   "source": [
    "x=bool(input())\n"
   ]
  },
  {
   "cell_type": "code",
   "execution_count": 39,
   "id": "a58ab553",
   "metadata": {},
   "outputs": [
    {
     "name": "stdout",
     "output_type": "stream",
     "text": [
      "True\n"
     ]
    }
   ],
   "source": [
    "print(x)"
   ]
  },
  {
   "cell_type": "code",
   "execution_count": 40,
   "id": "76d750a5",
   "metadata": {},
   "outputs": [
    {
     "name": "stdout",
     "output_type": "stream",
     "text": [
      "False\n"
     ]
    }
   ],
   "source": [
    "print(bool(False))"
   ]
  },
  {
   "cell_type": "code",
   "execution_count": 41,
   "id": "27663f65",
   "metadata": {},
   "outputs": [
    {
     "name": "stdout",
     "output_type": "stream",
     "text": [
      "False\n"
     ]
    }
   ],
   "source": [
    "y=bool(input())"
   ]
  },
  {
   "cell_type": "code",
   "execution_count": 43,
   "id": "c3ab7fdb",
   "metadata": {},
   "outputs": [
    {
     "name": "stdout",
     "output_type": "stream",
     "text": [
      "True\n"
     ]
    }
   ],
   "source": [
    "print(bool(True))"
   ]
  },
  {
   "cell_type": "code",
   "execution_count": 44,
   "id": "38f02b91",
   "metadata": {},
   "outputs": [
    {
     "name": "stdout",
     "output_type": "stream",
     "text": [
      "2\n",
      "3\n"
     ]
    }
   ],
   "source": [
    "if int(input())>0 and int(input())<0:\n",
    "    print('OK')"
   ]
  },
  {
   "cell_type": "code",
   "execution_count": 45,
   "id": "1e4c8784",
   "metadata": {},
   "outputs": [
    {
     "name": "stdout",
     "output_type": "stream",
     "text": [
      "1\n",
      "-9\n",
      "ok\n"
     ]
    }
   ],
   "source": [
    "a=int(input())\n",
    "b=int(input())\n",
    "if a>0:\n",
    "    if b<0:\n",
    "        print('ok')"
   ]
  },
  {
   "cell_type": "code",
   "execution_count": 46,
   "id": "e005ac04",
   "metadata": {},
   "outputs": [
    {
     "name": "stdout",
     "output_type": "stream",
     "text": [
      "OK\n"
     ]
    }
   ],
   "source": [
    "#Code 1\n",
    "a=True\n",
    "b=False\n",
    "c=True\n",
    "if a:\n",
    "    if b:\n",
    "        print(\"OK\")\n",
    "    if c:\n",
    "        print(\"OK\")     "
   ]
  },
  {
   "cell_type": "code",
   "execution_count": 47,
   "id": "bc7485ac",
   "metadata": {},
   "outputs": [],
   "source": [
    "#Code 2\n",
    "if a and b and c:\n",
    "    print(\"OK\")"
   ]
  },
  {
   "cell_type": "code",
   "execution_count": 52,
   "id": "c37de81a",
   "metadata": {},
   "outputs": [
    {
     "name": "stdout",
     "output_type": "stream",
     "text": [
      "5\n",
      "6\n",
      "P3\n"
     ]
    }
   ],
   "source": [
    "###### x=int(input())\n",
    "y=int(input())\n",
    "z=int(input())\n",
    "\n",
    "#Block-1 start\n",
    "if x>0 or y>0 or z>0:\n",
    "    if(x>0 and y>0) or (y>0 and z>0) or (z>0 and x>0):\n",
    "        if x>0 and y>0 and z>0:\n",
    "            print('P3')\n",
    "        else:\n",
    "            print('P2')\n",
    "    else:\n",
    "        print('P1')\n",
    "#Block-1 end\n",
    "\n",
    "#Block-2 start\n",
    "if x<0 or y<0 or z<0:\n",
    "    if(x<0 and y<0) or (y<0 and z<0) or (z<0 and x<0):\n",
    "        if x<0 and y<0 and z<0:\n",
    "            print('N3')\n",
    "        else:\n",
    "            print('N2')\n",
    "    else:\n",
    "        print('N1')\n",
    "#Block-2 end"
   ]
  },
  {
   "cell_type": "code",
   "execution_count": 53,
   "id": "b2508100",
   "metadata": {},
   "outputs": [
    {
     "name": "stdout",
     "output_type": "stream",
     "text": [
      "fdsg\n",
      "g\n",
      "er\n",
      "srr\n",
      "r\n",
      "Student record: \n",
      "     Dept: fdsg\n",
      "     Name: er srr\n",
      "     Roll No: r\n",
      "     Library Card No: fgr\n"
     ]
    }
   ],
   "source": [
    "#Problem 16 from graded assignment\n",
    "dept=input()\n",
    "course=input()\n",
    "prefix=input()\n",
    "name=input()\n",
    "roll_no=input()\n",
    "name=prefix+\" \"+name\n",
    "lib_id=dept[0]+course[0]+roll_no\n",
    "print(\"Student record: \")\n",
    "indent='     '\n",
    "print(indent+\"Dept:\",dept)\n",
    "print(indent+\"Name:\",name)\n",
    "print(indent+\"Roll No:\",roll_no)\n",
    "print(indent+\"Library Card No:\",lib_id)"
   ]
  },
  {
   "cell_type": "code",
   "execution_count": 54,
   "id": "c5d4e91b",
   "metadata": {},
   "outputs": [
    {
     "name": "stdout",
     "output_type": "stream",
     "text": [
      "abcd(efgh(ijkl}{{}))\n",
      "True\n"
     ]
    }
   ],
   "source": [
    "#Problem 17:\n",
    "s=\"abcd(efgh(ijkl}{{}))\"\n",
    "print(s)\n",
    "match=False\n",
    "if s.count('(')==s.count(')'):\n",
    "    if s.count('[')==s.count(']'):\n",
    "        if s.count('{')==s.count('}'):\n",
    "            match=True\n",
    "print(match)"
   ]
  },
  {
   "cell_type": "code",
   "execution_count": 55,
   "id": "aa9bfb5e",
   "metadata": {},
   "outputs": [
    {
     "name": "stdout",
     "output_type": "stream",
     "text": [
      "56\n",
      "3138.0\n"
     ]
    }
   ],
   "source": [
    "x=float(input())\n",
    "if x>0 and x<10:\n",
    "    y=x+2\n",
    "elif x>=10:\n",
    "    y=x**2+2\n",
    "else:\n",
    "    y=0\n",
    "print(y)"
   ]
  },
  {
   "cell_type": "code",
   "execution_count": 56,
   "id": "67747587",
   "metadata": {},
   "outputs": [
    {
     "name": "stdout",
     "output_type": "stream",
     "text": [
      "6\n",
      "7\n",
      "I\n"
     ]
    }
   ],
   "source": [
    "x=float(input())\n",
    "y=float(input())\n",
    "if x==0 and y==0:\n",
    "    print('Origin')\n",
    "elif x==0:\n",
    "    print('Y-axis')\n",
    "elif y==0:\n",
    "    print('X-axis')\n",
    "elif x>0 and y>0:\n",
    "    print('I')\n",
    "elif x<0 and y>0:\n",
    "    print('II')\n",
    "elif x<0 and y<0:\n",
    "    print('III')\n",
    "elif x>0 and y<0:\n",
    "    print('IV')"
   ]
  },
  {
   "cell_type": "code",
   "execution_count": 57,
   "id": "715fb51d",
   "metadata": {},
   "outputs": [
    {
     "name": "stdout",
     "output_type": "stream",
     "text": [
      "5\n",
      "6\n",
      "7\n",
      "8\n",
      "9\n",
      "10.0\n",
      "Positive Slope\n"
     ]
    }
   ],
   "source": [
    "x1=float(input())\n",
    "y1=float(input())\n",
    "x2=float(input())\n",
    "y2=float(input())\n",
    "x3=float(input())\n",
    "if x1==x2:\n",
    "    print('Vertical Line')\n",
    "else:\n",
    "    y3=((x3-x1)/(x2-x1))*(y2-y1)+y1\n",
    "    slope=(y2-y1)/(x2-x1)\n",
    "    print(y3)\n",
    "    if slope==0:\n",
    "        print('Horizontal Line')\n",
    "    elif slope>0:\n",
    "        print('Positive Slope')\n",
    "    elif slope<0:\n",
    "        print('Negative Slope')"
   ]
  },
  {
   "cell_type": "code",
   "execution_count": 59,
   "id": "12e4f6f9",
   "metadata": {},
   "outputs": [
    {
     "name": "stdout",
     "output_type": "stream",
     "text": [
      "True\n",
      "True\n"
     ]
    }
   ],
   "source": [
    "x=bool(input())\n",
    "print(x)"
   ]
  },
  {
   "cell_type": "code",
   "execution_count": 61,
   "id": "e5d37942",
   "metadata": {},
   "outputs": [
    {
     "name": "stdout",
     "output_type": "stream",
     "text": [
      "False\n"
     ]
    }
   ],
   "source": [
    "x=bool(False)\n",
    "print(x)"
   ]
  },
  {
   "cell_type": "code",
   "execution_count": 1,
   "id": "7189251b",
   "metadata": {},
   "outputs": [
    {
     "name": "stdout",
     "output_type": "stream",
     "text": [
      "siueifw.\n",
      "uei\n"
     ]
    }
   ],
   "source": [
    "s=input()\n",
    "if len(s)%2==0:\n",
    "    if s.endswith('.'):\n",
    "        s=s[0:len(s)-1]\n",
    "    else:\n",
    "        s=s+'.'   \n",
    "else:\n",
    "    s=s\n",
    "mid=int((len(s)+1)/2)\n",
    "print(s[mid-2:mid+1])"
   ]
  },
  {
   "cell_type": "code",
   "execution_count": null,
   "id": "c989a52a",
   "metadata": {},
   "outputs": [],
   "source": []
  },
  {
   "cell_type": "code",
   "execution_count": 18,
   "id": "40c627cd",
   "metadata": {},
   "outputs": [
    {
     "name": "stdout",
     "output_type": "stream",
     "text": [
      "False\n",
      "True\n",
      "True\n",
      "True\n"
     ]
    }
   ],
   "source": [
    "a=input()\n",
    "b=input()\n",
    "c=input()\n",
    "if a == 'False':\n",
    "    print(c)\n",
    "else:\n",
    "    if b == \"False\":\n",
    "        print(a)\n",
    "    else:\n",
    "        print(c)"
   ]
  },
  {
   "cell_type": "markdown",
   "id": "0c018e6c",
   "metadata": {},
   "source": [
    "### Checking whether three integers can form the sides of a triangle!"
   ]
  },
  {
   "cell_type": "code",
   "execution_count": 19,
   "id": "7f90e83b",
   "metadata": {},
   "outputs": [
    {
     "name": "stdout",
     "output_type": "stream",
     "text": [
      "23\n",
      "45\n",
      "56\n",
      "YES\n"
     ]
    }
   ],
   "source": [
    "a=int(input())\n",
    "b=int(input())\n",
    "c=int(input())\n",
    "if a>b and a>c:\n",
    "    if a<b+c:\n",
    "        print('YES')\n",
    "    else:\n",
    "        print('NO')\n",
    "if b>a and b>c:\n",
    "    if b<a+c:\n",
    "        print('YES')\n",
    "    else:\n",
    "        print('NO')\n",
    "if c>b and c>a:\n",
    "    if c<a+b:\n",
    "        print('YES')\n",
    "    else:\n",
    "        print('NO')"
   ]
  },
  {
   "cell_type": "code",
   "execution_count": 21,
   "id": "095cdf9b",
   "metadata": {},
   "outputs": [
    {
     "name": "stdout",
     "output_type": "stream",
     "text": [
      "3\n",
      "NIGHT\n"
     ]
    }
   ],
   "source": [
    "T=int(input())\n",
    "if T<0 or T>23:\n",
    "    print('INVALID')\n",
    "else:\n",
    "    if T<=5:\n",
    "        print('NIGHT')\n",
    "    elif T<=11:\n",
    "        print('MORNING')\n",
    "    elif T<=17:\n",
    "        print('AFTERNOON')\n",
    "    else:\n",
    "        print('EVENING')"
   ]
  },
  {
   "cell_type": "code",
   "execution_count": 26,
   "id": "296c1302",
   "metadata": {},
   "outputs": [
    {
     "name": "stdout",
     "output_type": "stream",
     "text": [
      "1\n",
      "2\n",
      "3\n",
      "4\n",
      "5\n",
      "NO\n"
     ]
    }
   ],
   "source": [
    "E1=int(input())\n",
    "E2=int(input())\n",
    "E3=int(input())\n",
    "E4=int(input())\n",
    "E5=int(input())\n",
    "list_E=[E1, E2, E3, E4, E5]\n",
    "list_i=[0,1,2,3,4]\n",
    "check=0\n",
    "for i in list_i:\n",
    "    sum_E = list[i]+list[i-1]\n",
    "    if sum_E%2!=0:\n",
    "        check=check+1\n",
    "    else:\n",
    "        check=check\n",
    "if check==5:\n",
    "    print('YES')\n",
    "else:\n",
    "    print('NO')"
   ]
  },
  {
   "cell_type": "code",
   "execution_count": 29,
   "id": "005b24a8",
   "metadata": {},
   "outputs": [
    {
     "name": "stdout",
     "output_type": "stream",
     "text": [
      "1\n",
      "2\n",
      "3\n",
      "4\n",
      "5\n",
      "NO\n"
     ]
    }
   ],
   "source": [
    "E1=int(input())\n",
    "E2=int(input())\n",
    "E3=int(input())\n",
    "E4=int(input())\n",
    "E5=int(input())\n",
    "sum_12=(E1+E2)%2\n",
    "sum_23=(E2+E3)%2\n",
    "sum_34=(E3+E4)%2\n",
    "sum_45=(E4+E5)%2\n",
    "sum_51=(E5+E1)%2\n",
    "if sum_12==sum_23==sum_34==sum_45==sum_51==0:\n",
    "    print('YES')\n",
    "else:\n",
    "    print('NO')"
   ]
  },
  {
   "cell_type": "code",
   "execution_count": 34,
   "id": "301837f9",
   "metadata": {},
   "outputs": [
    {
     "name": "stdout",
     "output_type": "stream",
     "text": [
      "True\n"
     ]
    }
   ],
   "source": [
    "s='alphabets'\n",
    "print(s.isalpha())"
   ]
  },
  {
   "cell_type": "code",
   "execution_count": 36,
   "id": "e5373453",
   "metadata": {},
   "outputs": [
    {
     "name": "stdout",
     "output_type": "stream",
     "text": [
      "False\n"
     ]
    }
   ],
   "source": [
    "print('b'<'a')"
   ]
  },
  {
   "cell_type": "code",
   "execution_count": 44,
   "id": "7d415661",
   "metadata": {},
   "outputs": [
    {
     "name": "stdout",
     "output_type": "stream",
     "text": [
      "EIOUADHWIISJJCNIDdio\n",
      "AEioU\n"
     ]
    }
   ],
   "source": [
    "s=input()\n",
    "out=''\n",
    "if 'a'in s:\n",
    "    out+='a'\n",
    "elif 'A' in s:\n",
    "    out+='A'\n",
    "else:\n",
    "    out=out\n",
    "if 'e'in s:\n",
    "    out+='e'\n",
    "elif 'E' in s:\n",
    "    out+='E'\n",
    "else:\n",
    "    out=out\n",
    "if 'i'in s:\n",
    "    out+='i'\n",
    "elif 'I' in s:\n",
    "    out+='I'\n",
    "else:\n",
    "    out=out\n",
    "if 'o'in s:\n",
    "    out+='o'\n",
    "elif 'O' in s:\n",
    "    out+='O'\n",
    "else:\n",
    "    out=out\n",
    "if 'u'in s:\n",
    "    out+='u'\n",
    "elif 'U' in s:\n",
    "    out+='U'\n",
    "else:\n",
    "    out=out\n",
    "print(out)"
   ]
  },
  {
   "cell_type": "code",
   "execution_count": 11,
   "id": "0763b88d",
   "metadata": {},
   "outputs": [
    {
     "name": "stdout",
     "output_type": "stream",
     "text": [
      "euurqirweupoiUUOIWEWO\n",
      "eiou\n"
     ]
    }
   ],
   "source": [
    "s=str(input())\n",
    "s=s.lower()  #This step is very important because we need to print vowels\n",
    "#             only in lower case.\n",
    "out=''\n",
    "if 'a' in s:\n",
    "    out+='a'\n",
    "else:\n",
    "    out=out\n",
    "if 'e' in s:\n",
    "    out+='e'\n",
    "else:\n",
    "    out=out\n",
    "if 'i' in s:\n",
    "    out+='i'\n",
    "else:\n",
    "    out=out\n",
    "if 'o' in s:\n",
    "    out+='o'\n",
    "else:\n",
    "    out=out\n",
    "if 'u' in s:\n",
    "    out+='u'\n",
    "else:\n",
    "    out=out\n",
    "print(out)"
   ]
  },
  {
   "cell_type": "markdown",
   "id": "2378d71e",
   "metadata": {},
   "source": [
    "###  Check who is the younger kid!!"
   ]
  },
  {
   "cell_type": "code",
   "execution_count": 2,
   "id": "f4222002",
   "metadata": {},
   "outputs": [
    {
     "name": "stdout",
     "output_type": "stream",
     "text": [
      "Anushka\n",
      "14-11-1997\n",
      "Reeshabh\n",
      "14-11-2008\n",
      "Reeshabh\n"
     ]
    }
   ],
   "source": [
    "p1=input()\n",
    "d1=input()\n",
    "p2=input()\n",
    "d2=input()\n",
    "if d1==d2:\n",
    "    if p1[0]<p2[0]:\n",
    "        print(p1)\n",
    "    elif p2[0]<p1[0]:\n",
    "        print(p2)\n",
    "    else:\n",
    "        if p1[1]<p2[1]:\n",
    "            print(p1)\n",
    "        elif p2[1]<p1[1]:\n",
    "            print(p2)\n",
    "        else:\n",
    "            if p1[2]<p2[2]:\n",
    "                print(p1)\n",
    "            elif p2[2]<p1[2]:\n",
    "                print(p2)\n",
    "            else:\n",
    "                if p1[3]<p2[3]:\n",
    "                    print(p1)\n",
    "                elif p2[3]<p1[3]:\n",
    "                    print(p2)\n",
    "                else:\n",
    "                    if p1[4]<p2[4]:\n",
    "                        print(p1)\n",
    "                    elif p2[4]<p1[4]:\n",
    "                        print(p2)\n",
    "                    else:\n",
    "                        if p1[5]<p2[5]:\n",
    "                            print(p1)\n",
    "                        elif p2[5]<p1[5]:\n",
    "                            print(p2)\n",
    "                        else:\n",
    "                            if p1[6]<p2[6]:\n",
    "                                print(p1)\n",
    "                            elif p2[6]<p1[6]:\n",
    "                                print(p2)\n",
    "                            else:\n",
    "                                print('Can\\'t determine')\n",
    "else:\n",
    "    yyyy1=d1[6:10]\n",
    "    yyyy2=d2[6:10]\n",
    "    if yyyy1>yyyy2:\n",
    "        print(p1)\n",
    "    elif yyyy1<yyyy2:\n",
    "        print(p2)\n",
    "    else:\n",
    "        mm1=d1[3:5]\n",
    "        mm2=d2[3:5]\n",
    "        if mm1>mm2:\n",
    "            print(p1)\n",
    "        elif mm1<mm2:\n",
    "            print(p2)\n",
    "        else:\n",
    "            dd1=d1[0:2]\n",
    "            dd2=d2[0:2]\n",
    "            if dd1>dd2:\n",
    "                print(p1)\n",
    "            else:\n",
    "                print(p2)"
   ]
  },
  {
   "cell_type": "code",
   "execution_count": 1,
   "id": "54b4298e",
   "metadata": {},
   "outputs": [
    {
     "name": "stdout",
     "output_type": "stream",
     "text": [
      "rytrr8//\n",
      "False\n"
     ]
    }
   ],
   "source": [
    "pw=input()\n",
    "if '/' in pw or \"\\\\\" in pw or '=' in pw or \"'\" in pw or '\"' in pw or ' ' in pw:\n",
    "    print(False)\n",
    "elif len(pw)>=8 and len(pw)<=32:\n",
    "    start=pw[0]\n",
    "    if not start.isalpha():\n",
    "        print(False)\n",
    "    else:\n",
    "        print(True)\n",
    "else:\n",
    "    print(False)"
   ]
  },
  {
   "cell_type": "code",
   "execution_count": 19,
   "id": "040d0650",
   "metadata": {},
   "outputs": [
    {
     "name": "stdout",
     "output_type": "stream",
     "text": [
      "Enter a number: \n",
      "51\n",
      "25.0\n"
     ]
    }
   ],
   "source": [
    "print('Enter a number: ')\n",
    "n=int(input()) #n=51 in this case\n",
    "sum=0\n",
    "for i in range(0,n,1):  #Remember python will always take the range as {0,1,2....,n-1} in steps of 1.\n",
    "    sum=sum+i\n",
    "avg=sum/n\n",
    "print(avg)"
   ]
  },
  {
   "cell_type": "code",
   "execution_count": null,
   "id": "9a2e4136",
   "metadata": {},
   "outputs": [],
   "source": []
  }
 ],
 "metadata": {
  "kernelspec": {
   "display_name": "Python 3",
   "language": "python",
   "name": "python3"
  },
  "language_info": {
   "codemirror_mode": {
    "name": "ipython",
    "version": 3
   },
   "file_extension": ".py",
   "mimetype": "text/x-python",
   "name": "python",
   "nbconvert_exporter": "python",
   "pygments_lexer": "ipython3",
   "version": "3.9.4"
  }
 },
 "nbformat": 4,
 "nbformat_minor": 5
}
