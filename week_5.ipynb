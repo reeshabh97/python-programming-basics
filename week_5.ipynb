{
 "cells": [
  {
   "cell_type": "markdown",
   "id": "88cc18eb",
   "metadata": {},
   "source": [
    "<h1 align=\"center\">Programming in Python</h1>\n",
    "<h3 align=\"center\">Week-5 Practice</h3>"
   ]
  },
  {
   "cell_type": "code",
   "execution_count": null,
   "id": "55fe9a7e",
   "metadata": {},
   "outputs": [],
   "source": [
    "#Understand the difference between return() and print()\n",
    "\n",
    "def add(a,b):\n",
    "    ans=a+b\n",
    "    print(ans)\n",
    "    #return(ans)\n",
    "addition=add(5,13)"
   ]
  },
  {
   "cell_type": "markdown",
   "id": "4366c846",
   "metadata": {},
   "source": [
    "return() just assigns the value to add(5,13) whereas print() prints the value associated with add(5,13)"
   ]
  },
  {
   "cell_type": "markdown",
   "id": "6cbb813e",
   "metadata": {},
   "source": [
    "<h3> We learnt that breaking the problem into smaller modules and solving them makes it easy on our mind </h3>"
   ]
  },
  {
   "cell_type": "markdown",
   "id": "c9f42216",
   "metadata": {},
   "source": [
    "## Matrix multiplication using Functions:"
   ]
  },
  {
   "cell_type": "markdown",
   "id": "2a998190",
   "metadata": {},
   "source": [
    "### Steps to multiply two matrices:\n",
    "<p> <b>STEP 1</b>: Initialize C to zero.</p>\n",
    "<p> <b>STEP 2</b>: Consider two matrices A and B.</p>\n",
    "<p> <b>STEP 3</b>: Dot product of two lists.</p>\n",
    "<p> <b>STEP 4</b>: Picking ith row and jth column in a marix.<p>"
   ]
  },
  {
   "cell_type": "code",
   "execution_count": null,
   "id": "44376f1f",
   "metadata": {},
   "outputs": [],
   "source": [
    "# Initialize a matrix C to zero.\n",
    "\n",
    "def init_mat(dim):\n",
    "    C=[]\n",
    "    for i in range(dim):\n",
    "        C.append([])\n",
    "        for j in range(dim):\n",
    "            C[i].append(0)\n",
    "    return C\n",
    "print(init_mat(3))"
   ]
  },
  {
   "cell_type": "code",
   "execution_count": null,
   "id": "f7db68c2",
   "metadata": {},
   "outputs": [],
   "source": [
    "# Dot product of two lists\n",
    "\n",
    "def dot_prod(u,v):\n",
    "    dim=len(u)\n",
    "    ans=0\n",
    "    for i in range(dim):\n",
    "        ans+=u[i]*v[i]\n",
    "    return ans\n",
    "dot_prod([1,2,3],[7,1,2])"
   ]
  },
  {
   "cell_type": "code",
   "execution_count": null,
   "id": "58aff6a9",
   "metadata": {},
   "outputs": [],
   "source": [
    "# Pick ith row\n",
    "\n",
    "def row(M,i):   # ith row of what..?? Matrix M\n",
    "    dim=len(M)\n",
    "    l=[]\n",
    "    for k in range(dim):\n",
    "        l.append(M[i][k])\n",
    "    return l\n",
    "A=[[1,2,3],[4,5,6],[7,8,9]]\n",
    "print(row(A,2))    "
   ]
  },
  {
   "cell_type": "code",
   "execution_count": null,
   "id": "230ec5e1",
   "metadata": {},
   "outputs": [],
   "source": [
    "# Pick jth column\n",
    "\n",
    "def col(M,j):   # ith row of what..?? Matrix M\n",
    "    dim=len(M)\n",
    "    l=[]\n",
    "    for k in range(dim):\n",
    "        l.append(M[k][j])\n",
    "    return l\n",
    "A=[[1,2,3],[4,5,6],[7,8,9]]\n",
    "print(col(A,1))  "
   ]
  },
  {
   "cell_type": "code",
   "execution_count": null,
   "id": "5de37555",
   "metadata": {},
   "outputs": [],
   "source": [
    "# Matrix multiplication function\n",
    "\n",
    "def mat_mul(A,B):\n",
    "    dim=len(A)\n",
    "    C=init_mat(dim)\n",
    "    for i in range(dim):\n",
    "        for j in range(dim):\n",
    "            C[i][j]=dot_prod(row(A,i),col(B,j))\n",
    "    return C\n",
    "B=[[1,2,1],[3,1,7],[6,2,3]]\n",
    "print(mat_mul(A,B))\n",
    "     "
   ]
  },
  {
   "cell_type": "code",
   "execution_count": null,
   "id": "010b321e",
   "metadata": {},
   "outputs": [],
   "source": [
    "#Verify whether the function is correct or not\n",
    "\n",
    "import numpy as np\n",
    "A=np.mat(A)\n",
    "B=np.mat(B)\n",
    "C=A*B\n",
    "print(C)"
   ]
  },
  {
   "cell_type": "markdown",
   "id": "9e4d8798",
   "metadata": {},
   "source": [
    "## Recursion: Calling a function within itself"
   ]
  },
  {
   "cell_type": "code",
   "execution_count": null,
   "id": "a06ed18d",
   "metadata": {},
   "outputs": [],
   "source": [
    "# A new way of summing first n natural numbers\n",
    "def sum(n):\n",
    "    if n==1:\n",
    "        return 1\n",
    "    else:\n",
    "        return n+sum(n-1)   #Calling function within itself\n",
    "sum(20)        "
   ]
  },
  {
   "cell_type": "code",
   "execution_count": null,
   "id": "5f0d081d",
   "metadata": {},
   "outputs": [],
   "source": [
    "# Compound Interest\n",
    "def comp(p,n,r):\n",
    "    f=1+r/100\n",
    "    if n==1:\n",
    "        return p*f\n",
    "    else:\n",
    "        return(comp(p,n-1,r))*f\n",
    "print(comp(2000,3,10))"
   ]
  },
  {
   "cell_type": "code",
   "execution_count": null,
   "id": "d8a87824",
   "metadata": {},
   "outputs": [],
   "source": [
    "# Factorial of a number n\n",
    "def fact(m):\n",
    "    if m==1:\n",
    "        return 1\n",
    "    else:\n",
    "        return m*fact(m-1)\n",
    "print(fact(5))"
   ]
  },
  {
   "cell_type": "code",
   "execution_count": null,
   "id": "6f20a1e3",
   "metadata": {},
   "outputs": [],
   "source": [
    "# Types of functional arguments\n",
    "def add(c, a=20, b=30):\n",
    "    return(a+b-c)\n",
    "print(add(30))  #Other two arguments are specified with the function itself"
   ]
  },
  {
   "cell_type": "code",
   "execution_count": null,
   "id": "69acf249",
   "metadata": {},
   "outputs": [],
   "source": [
    "print(add(40,10))   #We can change the arguments"
   ]
  },
  {
   "cell_type": "code",
   "execution_count": null,
   "id": "88d979f0",
   "metadata": {},
   "outputs": [],
   "source": [
    "print(add(40,b=10,a=50))   #We can even change the sequence of arguments"
   ]
  },
  {
   "cell_type": "code",
   "execution_count": null,
   "id": "f3f534f3",
   "metadata": {},
   "outputs": [],
   "source": [
    "def add(d,e,f):\n",
    "    print(d+e-f)\n",
    "add(e=5,d=6,f=4)  #Changing the sequence of arguments"
   ]
  },
  {
   "cell_type": "markdown",
   "id": "de331eb5",
   "metadata": {},
   "source": [
    "## Scope of Variables"
   ]
  },
  {
   "cell_type": "code",
   "execution_count": null,
   "id": "5b332976",
   "metadata": {},
   "outputs": [],
   "source": [
    "def my_func(x):   # x is local variable\n",
    "    x=x**2\n",
    "    return 'Value of x in my function',x\n",
    "\n",
    "x=5   #Global variable \n",
    "print('Value of x in my function',x)"
   ]
  },
  {
   "cell_type": "markdown",
   "id": "a3a69e69",
   "metadata": {},
   "source": [
    "But I wanted to print 25 !!!!!!!!!!!...."
   ]
  },
  {
   "cell_type": "code",
   "execution_count": null,
   "id": "c68fdfa6",
   "metadata": {},
   "outputs": [],
   "source": [
    "print(my_func(x)) "
   ]
  },
  {
   "cell_type": "code",
   "execution_count": null,
   "id": "96d5524d",
   "metadata": {},
   "outputs": [],
   "source": [
    "def my_func():\n",
    "    global x   #Argument is taken as the value of x globally defined\n",
    "    x=x**2\n",
    "    print('Value of x in my function',x)\n",
    "my_func()"
   ]
  },
  {
   "cell_type": "markdown",
   "id": "1dd3b810",
   "metadata": {},
   "source": [
    "## Graded Assignment - 5"
   ]
  },
  {
   "cell_type": "code",
   "execution_count": null,
   "id": "f687a2a8",
   "metadata": {},
   "outputs": [],
   "source": [
    "# Q.1\n",
    "\n",
    "def f(a=1,b=2,c,d):\n",
    "    return a+b+c+d"
   ]
  },
  {
   "cell_type": "code",
   "execution_count": null,
   "id": "de527211",
   "metadata": {},
   "outputs": [],
   "source": [
    "# Q.2,3\n",
    "\n",
    "def f(a,b,c=10,d=19):\n",
    "    return a+b+c+d\n",
    "print(f(c=1,d=2,1,2))"
   ]
  },
  {
   "cell_type": "code",
   "execution_count": null,
   "id": "8a0f483d",
   "metadata": {},
   "outputs": [],
   "source": [
    "# Q.4\n",
    "\n",
    "def asser(x):\n",
    "    return x==int(str(x))   #Output is boolean\n",
    "print(asser(1))"
   ]
  },
  {
   "cell_type": "code",
   "execution_count": null,
   "id": "95a67f29",
   "metadata": {},
   "outputs": [],
   "source": [
    "# Q.4\n",
    "def f():\n",
    "    return y**2\n",
    "y=15\n",
    "print(f())"
   ]
  },
  {
   "cell_type": "code",
   "execution_count": null,
   "id": "cebcb025",
   "metadata": {},
   "outputs": [],
   "source": [
    "# Q.6,7,8\n",
    "def f(x):\n",
    "    if x==0:\n",
    "        return x\n",
    "    elif x>5:\n",
    "        return g(x-2)\n",
    "    elif x<0 or x>10:\n",
    "        print(\"Error\")\n",
    "    else:\n",
    "        return f(x-1)\n",
    "\n",
    "def g(x):\n",
    "    if x==0:\n",
    "        return x\n",
    "    elif x>5:\n",
    "        return f(x-1)\n",
    "    elif x<0 or x>10:\n",
    "        return \"Error\"\n",
    "    else:\n",
    "        return g(x-2)\n",
    "print(g(8))"
   ]
  },
  {
   "cell_type": "code",
   "execution_count": null,
   "id": "3e8a47a6",
   "metadata": {},
   "outputs": [],
   "source": [
    "# Q.9\n",
    "import random\n",
    "x=random.random()\n",
    "for i in range(4):\n",
    "    print(x)   #We are printing the same x again and again"
   ]
  },
  {
   "cell_type": "code",
   "execution_count": null,
   "id": "280dabe2",
   "metadata": {},
   "outputs": [],
   "source": [
    "# Q.10\n",
    "import math as m\n",
    "side=m.hypot(3,4)\n",
    "print(side)"
   ]
  },
  {
   "cell_type": "code",
   "execution_count": null,
   "id": "f2ee623c",
   "metadata": {},
   "outputs": [],
   "source": [
    "# Q.11,12\n",
    "import math as m\n",
    "side=m.hypot(-3,-4)\n",
    "print(side)"
   ]
  },
  {
   "cell_type": "code",
   "execution_count": null,
   "id": "21acbd5f",
   "metadata": {},
   "outputs": [],
   "source": [
    "# Q.13\n",
    "def f(n=5):\n",
    "    for i in range(n):\n",
    "        print(i)\n",
    "print(f())"
   ]
  },
  {
   "cell_type": "code",
   "execution_count": null,
   "id": "62a94bb6",
   "metadata": {},
   "outputs": [],
   "source": [
    "# Q.14\n",
    "import math\n",
    "s=math.sqrt\n",
    "print(s(64))"
   ]
  },
  {
   "cell_type": "markdown",
   "id": "5a9c2509",
   "metadata": {},
   "source": [
    "### GrPA - 1"
   ]
  },
  {
   "cell_type": "code",
   "execution_count": null,
   "id": "34677758",
   "metadata": {},
   "outputs": [],
   "source": [
    "def perfect_number(num):\n",
    "    l=[]\n",
    "    i=1\n",
    "    while i<num:\n",
    "        if num%i==0:\n",
    "            l.append(i)\n",
    "        else:\n",
    "            pass\n",
    "        i+=1\n",
    "    s=0\n",
    "    for j in range(len(l)):\n",
    "        s+=l[j]\n",
    "    if s==num:\n",
    "        flag=True\n",
    "    else:\n",
    "        flag=False\n",
    "    return flag"
   ]
  },
  {
   "cell_type": "markdown",
   "id": "71dec4f2",
   "metadata": {},
   "source": [
    "### GrPA - 2"
   ]
  },
  {
   "cell_type": "code",
   "execution_count": null,
   "id": "5eca81b1",
   "metadata": {},
   "outputs": [],
   "source": [
    "def user_score(x,y,z):\n",
    "    sum=(x*1)+(y*3)+(z*5)\n",
    "    if sum<=50:\n",
    "        badge='Basic'\n",
    "    else:\n",
    "        badge='Leader'\n",
    "    return badge\n",
    "print(user_score(1,1,1))"
   ]
  },
  {
   "cell_type": "markdown",
   "id": "58fc0209",
   "metadata": {},
   "source": [
    "### GrPA - 3"
   ]
  },
  {
   "cell_type": "code",
   "execution_count": null,
   "id": "16a468fb",
   "metadata": {},
   "outputs": [],
   "source": [
    "def check_leap_year(year):\n",
    "    if year%100==0:\n",
    "        if year%400==0:\n",
    "            flag=True\n",
    "        else:\n",
    "            flag=False\n",
    "    else:\n",
    "        if year%4==0:\n",
    "            flag=True\n",
    "        else:\n",
    "            flag=False\n",
    "    return flag"
   ]
  },
  {
   "cell_type": "markdown",
   "id": "7e0ffacb",
   "metadata": {},
   "source": [
    "### GrPA - 4"
   ]
  },
  {
   "cell_type": "code",
   "execution_count": null,
   "id": "71d2ce3c",
   "metadata": {},
   "outputs": [],
   "source": [
    "def init_mat(dim):\n",
    "    C=[]\n",
    "    for i in range(dim):\n",
    "        C.append([])\n",
    "        for j in range(dim):\n",
    "            C[i].append(0)\n",
    "    return C\n",
    "\n",
    "def is_magic(mat):\n",
    "    dim=len(mat[0])\n",
    "    rlist=mat[:]\n",
    "    clist=init_mat(dim)\n",
    "    for i in range(dim):\n",
    "        for j in range(dim):\n",
    "            clist[i][j]=mat[j][i]\n",
    "    d1=[]\n",
    "    for i in range(dim):\n",
    "        for j in range(dim):\n",
    "            if i==j:\n",
    "                d1.append(mat[i][j])\n",
    "            \n",
    "    d2=[]\n",
    "    for i in range(dim):\n",
    "        for j in range(dim):\n",
    "            if i+j==dim-1:\n",
    "                d2.append(mat[i][j])\n",
    "                \n",
    "    sumd1,sumd2=0,0\n",
    "    for e in d1:\n",
    "        sumd1+=e\n",
    "    for e in d2:\n",
    "        sumd2+=e\n",
    "    \n",
    "    rsum,csum,dsum=[],[],[]\n",
    "    for i in range(dim):\n",
    "        rs,cs=0,0\n",
    "        for j in range(dim):\n",
    "            rs+=rlist[i][j]\n",
    "            cs+=clist[i][j]\n",
    "        rsum.append(rs)\n",
    "        csum.append(cs)\n",
    "    \n",
    "    flag='YES'\n",
    "    if sumd1!=sumd2:\n",
    "        flag=\"NO\"\n",
    "    for i in range(dim):\n",
    "        if rsum[i]!=sumd1 or csum[i]!=sumd1:\n",
    "            flag=\"NO\"\n",
    "    return flag  "
   ]
  },
  {
   "cell_type": "code",
   "execution_count": null,
   "id": "eee1b5cd",
   "metadata": {},
   "outputs": [],
   "source": [
    "is_magic([[2,7,6],[9,5,1],[4,3,8]])"
   ]
  },
  {
   "cell_type": "markdown",
   "id": "fda54d63",
   "metadata": {},
   "source": [
    "### GrPA - 5"
   ]
  },
  {
   "cell_type": "code",
   "execution_count": 2,
   "id": "ae70fa8b",
   "metadata": {},
   "outputs": [],
   "source": [
    "def board_min():\n",
    "    global board\n",
    "    mini=min(board)\n",
    "    return mini\n",
    "\n",
    "def board_erase(num):\n",
    "    global board\n",
    "    if num in board:\n",
    "        board.remove(num)\n",
    "    return board\n",
    "\n",
    "def board_write(num):\n",
    "    global board\n",
    "    board.insert(0,num)\n",
    "    return board\n",
    "\n",
    "def board_isEmpty():\n",
    "    global board\n",
    "    flag=False\n",
    "    if len(board)==0:\n",
    "        flag=True\n",
    "    return flag"
   ]
  },
  {
   "cell_type": "code",
   "execution_count": 8,
   "id": "00a19ae7",
   "metadata": {},
   "outputs": [
    {
     "name": "stdout",
     "output_type": "stream",
     "text": [
      "95\n"
     ]
    }
   ],
   "source": [
    "def process():\n",
    "    board_write(10**30)\n",
    "    k=0\n",
    "    mini=0\n",
    "    board_clone=[]\n",
    "    while mini<10**30:\n",
    "        mini=board_min()\n",
    "        board_erase(mini)\n",
    "        board_clone.append(mini)\n",
    "        k=k+1\n",
    "    length=k-1\n",
    "    board_clone.remove(10**30)\n",
    "    if length>1:\n",
    "        while len(board_clone)>=2:\n",
    "            board_clone.sort()\n",
    "            min1=board_clone[0]\n",
    "            min2=board_clone[1]\n",
    "            board_clone.remove(min1)\n",
    "            board_clone.remove(min2)\n",
    "            diff=abs(min1-min2)\n",
    "            board_clone.insert(0,diff)\n",
    "        copy=board_clone[0]\n",
    "    else:\n",
    "        copy=board_clone[0]\n",
    "    return copy\n",
    "board=[-100,-1,2,3,5]\n",
    "print(process())    "
   ]
  },
  {
   "cell_type": "code",
   "execution_count": 15,
   "id": "e3add501",
   "metadata": {},
   "outputs": [
    {
     "name": "stdout",
     "output_type": "stream",
     "text": [
      "95\n"
     ]
    }
   ],
   "source": [
    "#Short alternate procedure\n",
    "\n",
    "def process():\n",
    "    while board_isEmpty()==False:\n",
    "        min1=board_min()\n",
    "        board_erase(min1)\n",
    "        if board_isEmpty()==True:\n",
    "            paper=min1\n",
    "            break\n",
    "        min2=board_min()\n",
    "        board_erase(min2)\n",
    "        diff=abs(min1-min2)\n",
    "        board_write(diff)\n",
    "    return paper\n",
    "board=[-100,-1,2,3,5]\n",
    "print(process())    "
   ]
  }
 ],
 "metadata": {
  "kernelspec": {
   "display_name": "Python 3",
   "language": "python",
   "name": "python3"
  },
  "language_info": {
   "codemirror_mode": {
    "name": "ipython",
    "version": 3
   },
   "file_extension": ".py",
   "mimetype": "text/x-python",
   "name": "python",
   "nbconvert_exporter": "python",
   "pygments_lexer": "ipython3",
   "version": "3.9.4"
  }
 },
 "nbformat": 4,
 "nbformat_minor": 5
}
