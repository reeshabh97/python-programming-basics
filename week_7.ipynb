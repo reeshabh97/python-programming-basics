{
 "cells": [
  {
   "cell_type": "markdown",
   "id": "386404b7",
   "metadata": {},
   "source": [
    "<h1 align='center'>Graded Assignment - 7</h>"
   ]
  },
  {
   "cell_type": "markdown",
   "id": "b463f6e8",
   "metadata": {},
   "source": [
    "### Q1-Q4."
   ]
  },
  {
   "cell_type": "code",
   "execution_count": 1,
   "id": "57e4bf4a",
   "metadata": {},
   "outputs": [],
   "source": [
    "org_role_list=[('a','c'),('b','d'),('e','g'),('f','h')]\n",
    "org_work={0:'ab',1:'bc',2:'cd',3:'de',4:'ef'}\n",
    "org_sal_band={'sal-band-1':1000000.0,'sal-band-2':1500000.0,\n",
    "              'sal-band-3':2000000.0}"
   ]
  },
  {
   "cell_type": "code",
   "execution_count": 2,
   "id": "b6c6a24f",
   "metadata": {},
   "outputs": [
    {
     "name": "stdout",
     "output_type": "stream",
     "text": [
      "{'a': 'c', 'b': 'd', 'e': 'g', 'f': 'h'}\n"
     ]
    }
   ],
   "source": [
    "org_role_dict={}\n",
    "for i in range(len(org_role_list)):\n",
    "    org_role_dict.update({org_role_list[i][0]:org_role_list[i][1]})\n",
    "    #org_role_dict.update([org_role_list[i]])\n",
    "print(org_role_dict)"
   ]
  },
  {
   "cell_type": "code",
   "execution_count": 3,
   "id": "90e0617a",
   "metadata": {},
   "outputs": [
    {
     "name": "stdout",
     "output_type": "stream",
     "text": [
      "{'a': 'c', 'b': 'd', 'e': 'g', 'f': 'h'}\n"
     ]
    }
   ],
   "source": [
    "org_role_dict={}\n",
    "for unit,role in org_role_list:\n",
    "    org_role_dict[unit]=role\n",
    "print(org_role_dict)"
   ]
  },
  {
   "cell_type": "code",
   "execution_count": 10,
   "id": "b4db8cf6",
   "metadata": {},
   "outputs": [
    {
     "name": "stdout",
     "output_type": "stream",
     "text": [
      "['ab', 'bc', 'cd', 'de', 'ef']\n"
     ]
    }
   ],
   "source": [
    "emp_name=['A','B','C','D','E']\n",
    "emp_work=[]\n",
    "for i in range(len(emp_name)):\n",
    "    #emp_work=emp_work+[org_work[i%5]]\n",
    "    emp_work.append(org_work[i%5])\n",
    "print(emp_work)"
   ]
  },
  {
   "cell_type": "code",
   "execution_count": 13,
   "id": "956c558a",
   "metadata": {},
   "outputs": [
    {
     "name": "stdout",
     "output_type": "stream",
     "text": [
      "[1000000.0, 1500000.0, 1000000.0, 2000000.0, 1500000.0]\n"
     ]
    }
   ],
   "source": [
    "emp_band=['sal-band-1','sal-band-2','sal-band-1',\n",
    "         'sal-band-3','sal-band-2']\n",
    "emp_sal=[]\n",
    "for emp_id in range(len(emp_name)):\n",
    "    emp_sal.append(org_sal_band.get(emp_band[emp_id]))\n",
    "print(emp_sal)"
   ]
  },
  {
   "cell_type": "code",
   "execution_count": 14,
   "id": "24764bc9",
   "metadata": {},
   "outputs": [
    {
     "name": "stdout",
     "output_type": "stream",
     "text": [
      "10\n",
      "A,1000000.0,1100000.0\n",
      "B,1500000.0,1650000.0000000002\n",
      "C,1000000.0,1100000.0\n",
      "D,2000000.0,2200000.0\n",
      "E,1500000.0,1650000.0000000002\n"
     ]
    }
   ],
   "source": [
    "x=int(input())\n",
    "for emp_id in range(len(emp_name)):\n",
    "    print(emp_name[emp_id],emp_sal[emp_id],\n",
    "          emp_sal[emp_id]*(1+0.01*x),sep=',')"
   ]
  },
  {
   "cell_type": "markdown",
   "id": "9863cc89",
   "metadata": {},
   "source": [
    "### Q5-Q10."
   ]
  },
  {
   "cell_type": "code",
   "execution_count": 51,
   "id": "41ea464a",
   "metadata": {},
   "outputs": [
    {
     "name": "stdout",
     "output_type": "stream",
     "text": [
      "10\n",
      "20\n"
     ]
    }
   ],
   "source": [
    "a=int(input())\n",
    "b=int(input())\n",
    "def v(a):\n",
    "    return(a+w(b,a))\n",
    "\n",
    "def w(a,b=1):\n",
    "    a+=b\n",
    "    return(a)\n",
    "\n",
    "def x(a=1,b=1):\n",
    "    a+=b\n",
    "    return(a)\n",
    "\n",
    "def y(a=1):\n",
    "    global b\n",
    "    a+=b\n",
    "    b+=1\n",
    "    return(a)\n",
    "\n",
    "def z(a):\n",
    "    if a:\n",
    "        a+=z(a-1)\n",
    "    return a"
   ]
  },
  {
   "cell_type": "code",
   "execution_count": 31,
   "id": "1d2db5c6",
   "metadata": {},
   "outputs": [
    {
     "name": "stdout",
     "output_type": "stream",
     "text": [
      "21\n"
     ]
    }
   ],
   "source": [
    "print(z(6))"
   ]
  },
  {
   "cell_type": "code",
   "execution_count": 48,
   "id": "8f62dc97",
   "metadata": {},
   "outputs": [
    {
     "name": "stdout",
     "output_type": "stream",
     "text": [
      "30 10 10\n",
      "11 10 10\n",
      "11 10 10\n"
     ]
    }
   ],
   "source": [
    "print(v(a),a,b)\n",
    "print(w(a),a,b)\n",
    "print(x(a),a,b)"
   ]
  },
  {
   "cell_type": "code",
   "execution_count": 50,
   "id": "403f4ec2",
   "metadata": {},
   "outputs": [
    {
     "name": "stdout",
     "output_type": "stream",
     "text": [
      "30 10 21\n"
     ]
    }
   ],
   "source": [
    "print(y(a),a,b)"
   ]
  },
  {
   "cell_type": "code",
   "execution_count": 52,
   "id": "d74d3bd5",
   "metadata": {},
   "outputs": [
    {
     "data": {
      "text/plain": [
       "30"
      ]
     },
     "execution_count": 52,
     "metadata": {},
     "output_type": "execute_result"
    }
   ],
   "source": [
    "y(a)"
   ]
  },
  {
   "cell_type": "code",
   "execution_count": 53,
   "id": "5ba7304b",
   "metadata": {},
   "outputs": [
    {
     "name": "stdout",
     "output_type": "stream",
     "text": [
      "55 10 21\n"
     ]
    }
   ],
   "source": [
    "print(z(a),a,b)"
   ]
  },
  {
   "cell_type": "markdown",
   "id": "c27f2ac2",
   "metadata": {},
   "source": [
    "### Q11-Q13."
   ]
  },
  {
   "cell_type": "code",
   "execution_count": 89,
   "id": "2be61d8e",
   "metadata": {},
   "outputs": [],
   "source": [
    "def doSomething(M,r,c):\n",
    "    if len(M)*len(M[0])==r*c:\n",
    "        l=[]\n",
    "        for i in M:\n",
    "            for j in i:\n",
    "                l.append(j)\n",
    "        M_=[]\n",
    "        for i in range(r):\n",
    "            M_.append([])\n",
    "            for j in range(c):\n",
    "                M_[-1].append(l.pop(0))\n",
    "        return M_"
   ]
  },
  {
   "cell_type": "code",
   "execution_count": 92,
   "id": "fec95a9a",
   "metadata": {},
   "outputs": [],
   "source": [
    "M=[[1,2,0],[4,5,6]]\n",
    "r=3\n",
    "c=2\n",
    "x=doSomething(M,r,c)"
   ]
  },
  {
   "cell_type": "code",
   "execution_count": 93,
   "id": "df41ba4f",
   "metadata": {},
   "outputs": [
    {
     "data": {
      "text/plain": [
       "[[1, 2], [0, 4], [5, 6]]"
      ]
     },
     "execution_count": 93,
     "metadata": {},
     "output_type": "execute_result"
    }
   ],
   "source": [
    "x"
   ]
  },
  {
   "cell_type": "markdown",
   "id": "fa35c77c",
   "metadata": {},
   "source": [
    "### Q14-Q17."
   ]
  },
  {
   "cell_type": "code",
   "execution_count": 28,
   "id": "95891c33",
   "metadata": {},
   "outputs": [],
   "source": [
    "x='a b c d e f g h i j k l m n o'\n",
    "y='b c d e f g h i j'\n",
    "z='c d e f g h i j k'\n",
    "s=[x]+[y]+[z]"
   ]
  },
  {
   "cell_type": "code",
   "execution_count": 29,
   "id": "98d249f3",
   "metadata": {},
   "outputs": [
    {
     "data": {
      "text/plain": [
       "['a b c d e f g h i j k l m n o', 'b c d e f g h i j', 'c d e f g h i j k']"
      ]
     },
     "execution_count": 29,
     "metadata": {},
     "output_type": "execute_result"
    }
   ],
   "source": [
    "s"
   ]
  },
  {
   "cell_type": "code",
   "execution_count": 18,
   "id": "ca6928a5",
   "metadata": {},
   "outputs": [],
   "source": [
    "t=[]\n",
    "for i in range(len(s)):\n",
    "    t.append(s[i].split(\" \"))"
   ]
  },
  {
   "cell_type": "code",
   "execution_count": 19,
   "id": "be839d85",
   "metadata": {},
   "outputs": [
    {
     "data": {
      "text/plain": [
       "[['a', 'b', 'c'], ['b', 'c', 'd'], ['c', 'd', 'e']]"
      ]
     },
     "execution_count": 19,
     "metadata": {},
     "output_type": "execute_result"
    }
   ],
   "source": [
    "t"
   ]
  },
  {
   "cell_type": "code",
   "execution_count": 30,
   "id": "650857c1",
   "metadata": {},
   "outputs": [],
   "source": [
    "t=[]\n",
    "for q in s:\n",
    "    t.append(q.split(\" \"))"
   ]
  },
  {
   "cell_type": "code",
   "execution_count": 31,
   "id": "89cc67ec",
   "metadata": {},
   "outputs": [
    {
     "data": {
      "text/plain": [
       "[['a', 'b', 'c', 'd', 'e', 'f', 'g', 'h', 'i', 'j', 'k', 'l', 'm', 'n', 'o'],\n",
       " ['b', 'c', 'd', 'e', 'f', 'g', 'h', 'i', 'j'],\n",
       " ['c', 'd', 'e', 'f', 'g', 'h', 'i', 'j', 'k']]"
      ]
     },
     "execution_count": 31,
     "metadata": {},
     "output_type": "execute_result"
    }
   ],
   "source": [
    "t"
   ]
  },
  {
   "cell_type": "code",
   "execution_count": 32,
   "id": "fe0abf9a",
   "metadata": {},
   "outputs": [
    {
     "name": "stdout",
     "output_type": "stream",
     "text": [
      "0\n",
      "2\n",
      "4\n",
      "['a', 'b']\n",
      "['b', 'f', 'j']\n",
      "['k', 'g', 'c']\n"
     ]
    }
   ],
   "source": [
    "a=int(input())\n",
    "b=int(input())\n",
    "c=int(input())\n",
    "print(t[0][a:b])\n",
    "print(t[1][::c])\n",
    "print(t[2][::-c])"
   ]
  },
  {
   "cell_type": "code",
   "execution_count": null,
   "id": "4b2ea7f3",
   "metadata": {},
   "outputs": [],
   "source": []
  },
  {
   "cell_type": "code",
   "execution_count": null,
   "id": "04139741",
   "metadata": {},
   "outputs": [],
   "source": []
  }
 ],
 "metadata": {
  "kernelspec": {
   "display_name": "Python 3",
   "language": "python",
   "name": "python3"
  },
  "language_info": {
   "codemirror_mode": {
    "name": "ipython",
    "version": 3
   },
   "file_extension": ".py",
   "mimetype": "text/x-python",
   "name": "python",
   "nbconvert_exporter": "python",
   "pygments_lexer": "ipython3",
   "version": "3.9.4"
  }
 },
 "nbformat": 4,
 "nbformat_minor": 5
}
