{
 "cells": [
  {
   "cell_type": "markdown",
   "id": "8c4005b0",
   "metadata": {},
   "source": [
    "<h1 align=\"center\">Programming in Python</h1>\n",
    "<h3 align=\"center\">Week - 4 Practice</h3>"
   ]
  },
  {
   "cell_type": "markdown",
   "id": "cd82bdb2",
   "metadata": {},
   "source": [
    "### 4.2 Warmup with lists"
   ]
  },
  {
   "cell_type": "code",
   "execution_count": null,
   "id": "20f39406",
   "metadata": {},
   "outputs": [],
   "source": [
    "l=[1,2,3,4,5]\n",
    "l"
   ]
  },
  {
   "cell_type": "code",
   "execution_count": null,
   "id": "67306f62",
   "metadata": {},
   "outputs": [],
   "source": [
    "l.append(6)\n",
    "l"
   ]
  },
  {
   "cell_type": "code",
   "execution_count": null,
   "id": "d57bc450",
   "metadata": {},
   "outputs": [],
   "source": [
    "l.remove(1)\n",
    "l"
   ]
  },
  {
   "cell_type": "code",
   "execution_count": null,
   "id": "1a5e4b22",
   "metadata": {},
   "outputs": [],
   "source": [
    "l.append(2)\n",
    "l"
   ]
  },
  {
   "cell_type": "code",
   "execution_count": null,
   "id": "a48e900f",
   "metadata": {},
   "outputs": [],
   "source": [
    "l.remove(2)  # First occurence of 2 is removed\n",
    "l"
   ]
  },
  {
   "cell_type": "code",
   "execution_count": null,
   "id": "d69ce192",
   "metadata": {},
   "outputs": [],
   "source": [
    "x=[15,16,17]\n",
    "x"
   ]
  },
  {
   "cell_type": "code",
   "execution_count": null,
   "id": "4e604365",
   "metadata": {},
   "outputs": [],
   "source": [
    "x.append(l)   #It is an array contains another array 'l'\n",
    "x"
   ]
  },
  {
   "cell_type": "code",
   "execution_count": null,
   "id": "c3fd7421",
   "metadata": {},
   "outputs": [],
   "source": [
    "print(x[3])"
   ]
  },
  {
   "cell_type": "code",
   "execution_count": null,
   "id": "c0d5838d",
   "metadata": {},
   "outputs": [],
   "source": [
    "print(x[2])"
   ]
  },
  {
   "cell_type": "markdown",
   "id": "7bc46c51",
   "metadata": {},
   "source": [
    "### 4.3 Birthday paradox"
   ]
  },
  {
   "cell_type": "code",
   "execution_count": null,
   "id": "ef9da658",
   "metadata": {},
   "outputs": [],
   "source": [
    "import math\n",
    "import random"
   ]
  },
  {
   "cell_type": "code",
   "execution_count": null,
   "id": "ac26e7c5",
   "metadata": {},
   "outputs": [],
   "source": [
    "l=[] #Create an empty list\n",
    "\n",
    "for i in range(30):\n",
    "    l.append(random.randint(1,366))\n",
    "print(l)"
   ]
  },
  {
   "cell_type": "code",
   "execution_count": null,
   "id": "f82eb712",
   "metadata": {},
   "outputs": [],
   "source": [
    "l.sort()\n",
    "print(l)"
   ]
  },
  {
   "cell_type": "markdown",
   "id": "7e08d1e9",
   "metadata": {},
   "source": [
    "_**There are two people with same birthday i.e. 279. It seems that birthday paradox is indeed true...**_"
   ]
  },
  {
   "cell_type": "code",
   "execution_count": null,
   "id": "481dc713",
   "metadata": {},
   "outputs": [],
   "source": [
    "# Code that checks if there is any repeatition or not...\n",
    "import math\n",
    "import random\n",
    "l=[]\n",
    "for i in range(50):\n",
    "    l.append(random.randint(1,366))\n",
    "l.sort()\n",
    "print(l)\n",
    "\n",
    "i=0\n",
    "flag=0\n",
    "while (i<len(l)-1):\n",
    "    if (l[i]==l[i+1]):\n",
    "        print(\"Repeats\",l[i])\n",
    "        flag=1\n",
    "    i=i+1\n",
    "\n",
    "if (flag==0):\n",
    "    print(\"There is no repetition\")"
   ]
  },
  {
   "cell_type": "markdown",
   "id": "539b1fbb",
   "metadata": {},
   "source": [
    "_**It's an amazing observation that if we take 50 students and 365 days of a year, almost in all cases we get repeated birthdays. Although its tough to believe, it actually happens and the birthday paradox indeed holds true...**_"
   ]
  },
  {
   "cell_type": "markdown",
   "id": "69f80c48",
   "metadata": {},
   "source": [
    "### 4.4 Naive search in a list"
   ]
  },
  {
   "cell_type": "code",
   "execution_count": null,
   "id": "e9bfc45d",
   "metadata": {},
   "outputs": [],
   "source": [
    "import math\n",
    "import random\n",
    "flag=0\n",
    "l=[]\n",
    "for i in range(10):\n",
    "    l.append(random.randint(1,20))\n",
    "print(l)\n",
    "n=0\n",
    "while (n!=-1):\n",
    "    n=int(input('Enter a number, type -1 to exit'))\n",
    "    for i in range(len(l)):\n",
    "        if (n==l[i]):\n",
    "            print(\"Hip Hip Hurray, element found\")\n",
    "            flag=1\n",
    "            break\n",
    "    if (flag==0):\n",
    "        print(\"Element not found :(\")"
   ]
  },
  {
   "cell_type": "markdown",
   "id": "1af6073a",
   "metadata": {},
   "source": [
    "### 4.5 The obvious sort"
   ]
  },
  {
   "cell_type": "code",
   "execution_count": null,
   "id": "70e17598",
   "metadata": {},
   "outputs": [],
   "source": [
    "# sorting list without using in built function .sort()\n",
    "import math\n",
    "import random\n",
    "m=[]\n",
    "for i in range(50):\n",
    "    m.append(random.randint(1,366))\n",
    "# say no to l.sort()\n",
    "x=[]\n",
    "while (len(l)>0):\n",
    "    min=m[0]\n",
    "    for i in range(len(l)):\n",
    "        if l[i]<=min:\n",
    "            min=l[i]\n",
    "    x.append(min)\n",
    "    l.remove(min)\n",
    "print(x)"
   ]
  },
  {
   "cell_type": "markdown",
   "id": "9e073fbf",
   "metadata": {},
   "source": [
    "### 4.6 Dot product"
   ]
  },
  {
   "cell_type": "code",
   "execution_count": null,
   "id": "3890711a",
   "metadata": {},
   "outputs": [],
   "source": [
    "import random\n",
    "l=random.sample(list(range(20)),10)\n",
    "print(l)\n",
    "sum=0\n",
    "for i in range(len(l)):\n",
    "    sum=sum+l[i]\n",
    "print('sum =',sum)\n"
   ]
  },
  {
   "cell_type": "code",
   "execution_count": null,
   "id": "8025cafc",
   "metadata": {},
   "outputs": [],
   "source": [
    "# Write a piece of code to find the dot product of two vectors:\n",
    "x=random.sample(list(range(20)),10)\n",
    "y=random.sample(list(range(20)),10)\n",
    "print('X =',x)\n",
    "print('Y =',y)\n",
    "dot_product=0\n",
    "for i in range(len(x)):\n",
    "    dot_product+=(x[i]*y[i])\n",
    "print(\"Dot product =\",dot_product)"
   ]
  },
  {
   "cell_type": "markdown",
   "id": "379074b3",
   "metadata": {},
   "source": [
    "### 4.7 Matrix addition"
   ]
  },
  {
   "cell_type": "markdown",
   "id": "259bd23f",
   "metadata": {},
   "source": [
    "_**Matrix addition by first principles:**_\n"
   ]
  },
  {
   "cell_type": "code",
   "execution_count": null,
   "id": "912418a6",
   "metadata": {},
   "outputs": [],
   "source": [
    "# Naive method\n",
    "dim=2   # dimension of the matrix\n",
    "r1=[1,2]\n",
    "r2=[4,5]\n",
    "s1=[7,8]\n",
    "s2=[5,9]\n",
    "R=[]\n",
    "R.append(r1)\n",
    "R.append(r2)\n",
    "S=[]\n",
    "S.append(s1)\n",
    "S.append(s2)\n",
    "print('R =',R)\n",
    "print('S =',S)\n",
    "sum=[[0,0], [0,0]]   # must be initialized\n",
    "for i in range(dim):\n",
    "    for j  in range(dim):\n",
    "        sum[i][j]=R[i][j]+S[i][j]\n",
    "print('sum =',sum)"
   ]
  },
  {
   "cell_type": "markdown",
   "id": "a412f857",
   "metadata": {},
   "source": [
    "### 4.9 Matrix multiplication - 2"
   ]
  },
  {
   "cell_type": "code",
   "execution_count": null,
   "id": "336b0ecb",
   "metadata": {},
   "outputs": [],
   "source": [
    "dim=2   # dimension of the matrix\n",
    "r1=[1,2]\n",
    "r2=[4,5]\n",
    "s1=[7,8]\n",
    "s2=[5,9]\n",
    "A=[]\n",
    "A.append(r1)\n",
    "A.append(r2)\n",
    "B=[]\n",
    "B.append(s1)\n",
    "B.append(s2)\n",
    "print('A =',A)\n",
    "print('B =',B)\n",
    "\n",
    "C=[[0,0], [0,0]]\n",
    "# C[i][j] is the dot product of the ith row of A and the jth column of B\n",
    "for i in range(dim):\n",
    "    for j in range(dim):\n",
    "        for k in range(dim):           \n",
    "            #C[i][j]= dot product of A[i][..] and B[..][j]       \n",
    "            C[i][j]=C[i][j]+A[i][k]*B[k][j]\n",
    "print(C)            "
   ]
  },
  {
   "cell_type": "code",
   "execution_count": null,
   "id": "5c91e7a1",
   "metadata": {},
   "outputs": [],
   "source": [
    "import numpy as np\n",
    "X=np.mat(A)   # Converting list of lists in matrix form\n",
    "print('X =',X)\n",
    "Y=np.mat(B)   # Converting list of lists in matrix form\n",
    "print('Y =',Y)\n",
    "Z=X*Y   # Numpy has made the matrix multiplication so easy\n",
    "print('matrix_product =',Z)"
   ]
  },
  {
   "cell_type": "markdown",
   "id": "5e6b5368",
   "metadata": {},
   "source": [
    "## Programming assignments"
   ]
  },
  {
   "cell_type": "markdown",
   "id": "9fc08779",
   "metadata": {},
   "source": [
    "### Graded assignment - 4"
   ]
  },
  {
   "cell_type": "code",
   "execution_count": null,
   "id": "64bd87d6",
   "metadata": {},
   "outputs": [],
   "source": [
    "# Q1\n",
    "A=bool(input())\n",
    "B=bool(input())\n",
    "C=bool()\n",
    "if A==False and B==False:\n",
    "    C=False\n",
    "elif A==False and B==True:\n",
    "    C=True\n",
    "elif A==True and B==False:\n",
    "    C=False\n",
    "else:\n",
    "    C=True\n",
    "print(C)\n",
    "print(C==B)\n",
    "print(C==((not(A) and B) or (A and B)))\n",
    "print(C==((A and not(A)) or B))\n",
    "print(C==((A or not(A)) and B))\n"
   ]
  },
  {
   "cell_type": "code",
   "execution_count": null,
   "id": "265025fa",
   "metadata": {},
   "outputs": [],
   "source": [
    "# Q2\n",
    "string=\"this is old python course\"\n",
    "print(string.count('is'))\n",
    "print(string.replace(\"old\",\"new\"))\n",
    "print(string.index(\"python\"))\n",
    "print(string.startswith(\"this\"))\n",
    "print(string.isalnum())\n",
    "print(string.title())\n",
    "print(string.strip(\"this is old\"))"
   ]
  },
  {
   "cell_type": "code",
   "execution_count": null,
   "id": "64f83c48",
   "metadata": {},
   "outputs": [],
   "source": [
    "# Q3\n",
    "for num in range(22,2,-2):\n",
    "    num=num+2\n",
    "    print(num)"
   ]
  },
  {
   "cell_type": "code",
   "execution_count": null,
   "id": "7b2d0a2b",
   "metadata": {},
   "outputs": [],
   "source": [
    "# Q4\n",
    "for num in ['p','y','t','h','o','n']:\n",
    "    print(num,end=\"\")\n",
    "print('\\n')\n",
    "for num in 'python':\n",
    "    print(num,end=\"\")"
   ]
  },
  {
   "cell_type": "code",
   "execution_count": null,
   "id": "b0df72a8",
   "metadata": {},
   "outputs": [],
   "source": [
    "# Q6\n",
    "fruit_list=[\"apple\",\"banana\",\"orange\",\"apple\",\"pineapple\"]\n",
    "fruit_list.remove(\"apple\")\n",
    "print(fruit_list)\n",
    "print(len(fruit_list))\n",
    "fruit_list.append(\"apple\")\n",
    "print(fruit_list)"
   ]
  },
  {
   "cell_type": "code",
   "execution_count": null,
   "id": "cbc4620a",
   "metadata": {},
   "outputs": [],
   "source": [
    "# Q7\n",
    "l1=[\"I play\",\"You play\"]\n",
    "l2=[\"Badminton\",\"Cricket\"]\n",
    "print(l1[0]+\" \"+l2[0])\n",
    "print(\"{a} {b}\".format(a=l1[0],b=l2[0]))\n",
    "for x in l1[:-1]:   # l1[:-1] is a list with only one item in it, 'I play'\n",
    "    for y in l2[:-1]:\n",
    "        print(x,y)"
   ]
  },
  {
   "cell_type": "code",
   "execution_count": null,
   "id": "ef499288",
   "metadata": {},
   "outputs": [],
   "source": [
    " # LIST SLICING: \n",
    "x=[1,2,3,4,5]\n",
    "y=x[0:-1:2]   # x[start_index:(end_index+1):step]\n",
    "print(x,y)"
   ]
  },
  {
   "cell_type": "markdown",
   "id": "8c0423ef",
   "metadata": {},
   "source": [
    "### Q11: Even though choices are wrong, trying to solve..."
   ]
  },
  {
   "cell_type": "code",
   "execution_count": null,
   "id": "8e9ef3b6",
   "metadata": {},
   "outputs": [],
   "source": [
    "#Given: A is a square matrix: To find out A^n.\n",
    "n=int(input())\n",
    "A=[[1,2], [5,6]]\n",
    "dim=len(A)\n",
    "P=A\n",
    "t=n\n",
    "while t>0:\n",
    "    Q=[[0,0], [0,0]]\n",
    "    for i in range(dim):\n",
    "        for j in range(dim):\n",
    "            for k in range(dim):\n",
    "                Q[i][j]+=P[i][k]*A[k][j]\n",
    "    P=Q\n",
    "    t-=1\n",
    "print(\"A^{a} = {b}\".format(a=n,b=P))"
   ]
  },
  {
   "cell_type": "code",
   "execution_count": null,
   "id": "229c98ee",
   "metadata": {},
   "outputs": [],
   "source": [
    "P[-1]"
   ]
  },
  {
   "cell_type": "code",
   "execution_count": null,
   "id": "5f6bcd41",
   "metadata": {
    "scrolled": true
   },
   "outputs": [],
   "source": [
    "### Difference between numpy arrays and numpy matrices\n",
    "import numpy as np\n",
    "\n",
    "a1 = np.array([[1, 2], [3, 4]])\n",
    "a2 = np.array([[5, 8], [1, 9]])\n",
    "array_product=a1*a2   ### Element to element product\n",
    "print(array_product)   \n",
    "\n",
    "m1 = np.mat([[1, 2], [3, 4]])\n",
    "m2 = np.mat([[5, 8], [1, 9]])\n",
    "matrix_product=m1*m2   ### Matrix multiplication\n",
    "print(matrix_product)"
   ]
  },
  {
   "cell_type": "markdown",
   "id": "b9901f06",
   "metadata": {},
   "source": [
    "### GrPA - 1"
   ]
  },
  {
   "cell_type": "code",
   "execution_count": null,
   "id": "f251556e",
   "metadata": {},
   "outputs": [],
   "source": [
    "# Putting all input values in a list\n",
    "N=[]\n",
    "n=None\n",
    "while n!='END':\n",
    "    n=input()\n",
    "    if n.isalpha()==True:\n",
    "        continue\n",
    "    else:\n",
    "        N.append(float(n))\n",
    "\n",
    "# Finding out the mean\n",
    "sum=0\n",
    "for j in range(len(N)):\n",
    "    sum+=N[j]\n",
    "x_bar=sum/len(N)\n",
    "\n",
    "# Finding out standard deviation\n",
    "sse=0   #Initialization of sum squared error\n",
    "for k in range(len(N)):\n",
    "    sse+=(N[k]-x_bar)**2\n",
    "if len(N)>1:\n",
    "    sigma=(sse/(len(N)-1))**0.5\n",
    "    if sigma%1==0:\n",
    "        print(str(sigma)+'0')   ### THIS IS THE MOST IMP STEP\n",
    "    else:\n",
    "        print(round(sigma,2))\n",
    "else:\n",
    "    print('0.00')\n"
   ]
  },
  {
   "cell_type": "markdown",
   "id": "2d5674e7",
   "metadata": {},
   "source": [
    "### GrPA - 2"
   ]
  },
  {
   "cell_type": "code",
   "execution_count": null,
   "id": "5738b109",
   "metadata": {},
   "outputs": [],
   "source": [
    "s=input()\n",
    "l=len(s)\n",
    "\n",
    "r1=[]\n",
    "r2=[]\n",
    "sum_1=0\n",
    "sum_2=0\n",
    "for c in range(l):\n",
    "    if s[c]=='(':\n",
    "        sum_1+=1\n",
    "        r1.append(c)\n",
    "    elif s[c]==')':\n",
    "        sum_2+=1\n",
    "        r2.append(c)\n",
    "    else:\n",
    "        pass\n",
    "print(r1)\n",
    "print(r2)\n",
    "r=len(r1)\n",
    "    \n",
    "if sum_1!=sum_2:\n",
    "    print('Not matched')\n",
    "    \n",
    "else:\n",
    "    if r1[0]>r2[0]:\n",
    "        print('Not matched')\n",
    "    else:\n",
    "        for i in range(r):\n",
    "            flag=False\n",
    "            for j in range(r):\n",
    "                if r2[j]>r1[i]:\n",
    "                    flag=True\n",
    "                else:\n",
    "                    pass\n",
    "        \n",
    "        count_1=0\n",
    "        for z in range(r):\n",
    "            if r1[z]<r2[0]:\n",
    "                count_1+=1    \n",
    "        \n",
    "        count=0\n",
    "        for k in range(1,r):\n",
    "            for m in range(r):\n",
    "                if (r1[m]>r2[k-1]) and (r1[m]<r2[k]):\n",
    "                    count+=1\n",
    "                    \n",
    "        if flag==True:\n",
    "            if count_1>count:\n",
    "                print(count_1)\n",
    "            else:\n",
    "                print(count)\n",
    "        else:\n",
    "            print('Not matched')"
   ]
  },
  {
   "cell_type": "markdown",
   "id": "be2ae8f8",
   "metadata": {},
   "source": [
    "### GrPA - 3"
   ]
  },
  {
   "cell_type": "code",
   "execution_count": null,
   "id": "f7e33ad6",
   "metadata": {},
   "outputs": [],
   "source": [
    "i=None\n",
    "l=[]\n",
    "while i!='':\n",
    "    n=input()\n",
    "    i=n\n",
    "    if i=='':\n",
    "        continue\n",
    "    else:\n",
    "        n=int(n)\n",
    "        l.append(n)\n",
    "l.sort()\n",
    "\n",
    "for i in range(len(l)):\n",
    "    for j in range(len(l)):\n",
    "        if i!=j:\n",
    "            sum=l[i]+l[j]\n",
    "            if sum in l:\n",
    "                print(l[i],l[j])\n",
    "            else:\n",
    "                pass\n",
    "        else:\n",
    "            pass\n",
    "    \n",
    "    \n",
    "    "
   ]
  },
  {
   "cell_type": "markdown",
   "id": "df459aac",
   "metadata": {},
   "source": [
    "### GrPA - 4"
   ]
  },
  {
   "cell_type": "code",
   "execution_count": null,
   "id": "941043ad",
   "metadata": {},
   "outputs": [],
   "source": [
    "i=None\n",
    "l=[]\n",
    "count=0\n",
    "while i!='':\n",
    "    s=input()\n",
    "    i=s\n",
    "    if i=='':\n",
    "        continue\n",
    "    else:\n",
    "        l.append([])\n",
    "        l[count].append(s)\n",
    "    count+=1\n",
    "for i in range(len(l)):\n",
    "    l[i]=l[i][0].split()\n",
    "\n",
    "m=[]\n",
    "i=len(l[0])-1\n",
    "count=0\n",
    "while i>=0:\n",
    "    m.append([])\n",
    "    for k in range(len(l)):\n",
    "        m[count].append(l[k][i])\n",
    "    count+=1\n",
    "    i-=1\n",
    "\n",
    "for i in range(len(m)):\n",
    "    j=0\n",
    "    while j<len(m[i]):\n",
    "        if j==0:\n",
    "            x=m[i][j]\n",
    "        else:\n",
    "            x=x+' '+m[i][j]\n",
    "        j+=1\n",
    "    print(x)"
   ]
  },
  {
   "cell_type": "markdown",
   "id": "70da5ab1",
   "metadata": {},
   "source": [
    "### PPA - 1"
   ]
  },
  {
   "cell_type": "code",
   "execution_count": null,
   "id": "ea174099",
   "metadata": {},
   "outputs": [],
   "source": [
    "e=int(input())\n",
    "if e<=100:\n",
    "    cost=0\n",
    "elif e>100 and e<=200:\n",
    "    cost=(e-100)*5\n",
    "elif e>200 and e<=500:\n",
    "    cost=(100*5)+(e-200)*8\n",
    "else:\n",
    "    cost=(100*5)+(300*8)+(e-500)*10\n",
    "print(cost)"
   ]
  },
  {
   "cell_type": "markdown",
   "id": "654a6d94",
   "metadata": {},
   "source": [
    "### PPA - 2"
   ]
  },
  {
   "cell_type": "code",
   "execution_count": null,
   "id": "70c9d1cf",
   "metadata": {
    "scrolled": true
   },
   "outputs": [],
   "source": [
    "def match(a,b,l):\n",
    "    boool=False\n",
    "    if l.count(a)!=l.count(b):\n",
    "        return boool\n",
    "    else:\n",
    "        for i in range(len(l)):\n",
    "            if l[i]==a:\n",
    "                boool=False\n",
    "                for j in range(i,len(l)):\n",
    "                    if l[j]==b:\n",
    "                        boool=True\n",
    "                        break\n",
    "        return boool"
   ]
  },
  {
   "cell_type": "code",
   "execution_count": null,
   "id": "3c44c2f3",
   "metadata": {},
   "outputs": [],
   "source": [
    "s=input()\n",
    "l=[]\n",
    "for char in s:\n",
    "    l.append(char)\n",
    "\n",
    "A=match('(',')',l)\n",
    "B=match('{','}',l)\n",
    "C=match('[',']',l)\n",
    "\n",
    "if A==True and B==True and C==True:\n",
    "    print(True)\n",
    "else:\n",
    "    print(False)"
   ]
  },
  {
   "cell_type": "markdown",
   "id": "a4e36811",
   "metadata": {},
   "source": [
    "### PPA - 3"
   ]
  },
  {
   "cell_type": "code",
   "execution_count": null,
   "id": "e84c9d24",
   "metadata": {},
   "outputs": [],
   "source": [
    "alpha='abcdefghijklmnopqrstuvwxyz'\n",
    "ALPHA=alpha.upper()\n",
    "num='0123456789'\n",
    "\n",
    "alist=inlist(alpha)\n",
    "Alist=inlist(ALPHA)\n",
    "numlist=inlist(num)\n",
    "\n",
    "s=str(input())\n",
    "slist=inlist(s)\n",
    "\n",
    "for i in range(len(slist)):\n",
    "    if slist[i] in alist:\n",
    "        ind=alist.index(slist[i])\n",
    "        bind=-(ind+1)\n",
    "        slist[i]=alist[bind]\n",
    "    elif slist[i] in Alist:\n",
    "        ind=Alist.index(slist[i])\n",
    "        bind=-(ind+1)\n",
    "        slist[i]=Alist[bind]\n",
    "    elif slist[i] in numlist:\n",
    "        ind=numlist.index(slist[i])\n",
    "        bind=-(ind+1)\n",
    "        slist[i]=numlist[bind]\n",
    "    elif slist[i]==' ':\n",
    "        slist[i]='_'\n",
    "    else:\n",
    "        continue\n",
    "new_string=''\n",
    "for char in slist:\n",
    "    new_string+=char\n",
    "print(new_string)"
   ]
  },
  {
   "cell_type": "code",
   "execution_count": null,
   "id": "7b795101",
   "metadata": {},
   "outputs": [],
   "source": [
    "def inlist(l):\n",
    "    new_l=[]\n",
    "    for char in l:\n",
    "        new_l.append(char)\n",
    "    return new_l"
   ]
  },
  {
   "cell_type": "markdown",
   "id": "40fcdb06",
   "metadata": {},
   "source": [
    "### PPA - 4"
   ]
  },
  {
   "cell_type": "code",
   "execution_count": null,
   "id": "c5636e11",
   "metadata": {},
   "outputs": [],
   "source": [
    "n=input()\n",
    "listt=n.split(' ')\n",
    "l=[]\n",
    "for char in listt:\n",
    "    l.append(int(char))\n",
    "l.sort()\n",
    "\n",
    "sum=0\n",
    "for char in l:\n",
    "    sum+=char\n",
    "av=sum/len(l)\n",
    "    \n",
    "newl=[]\n",
    "\n",
    "for i in range(len(l)):\n",
    "    if l[i]>av:\n",
    "        newl.append(l[i])\n",
    "    else:\n",
    "        continue\n",
    "s=''\n",
    "for i in range(len(newl)):\n",
    "    if i==0:\n",
    "        s=s+str(newl[i])\n",
    "    else:\n",
    "        s=s+' '+str(newl[i])\n",
    "print(s)"
   ]
  },
  {
   "cell_type": "markdown",
   "id": "919bd62e",
   "metadata": {},
   "source": [
    "### PPA - 5"
   ]
  },
  {
   "cell_type": "code",
   "execution_count": null,
   "id": "234ffce9",
   "metadata": {},
   "outputs": [],
   "source": [
    "s=input()\n",
    "l=s.split(',')\n",
    "seen=[]\n",
    "newl=[]\n",
    "\n",
    "for i in range(len(l)):\n",
    "    if l[i] not in seen:\n",
    "        newl.append(l[i])\n",
    "        seen.append(l[i])\n",
    "    else:\n",
    "        continue\n",
    "    \n",
    "s=newl[0]\n",
    "for k in range(1,len(newl)):\n",
    "    s+=','+newl[k]\n",
    "print(s)    "
   ]
  },
  {
   "cell_type": "markdown",
   "id": "da8535b5",
   "metadata": {},
   "source": [
    "### PPA - 6"
   ]
  },
  {
   "cell_type": "code",
   "execution_count": 15,
   "id": "fa40615f",
   "metadata": {},
   "outputs": [
    {
     "name": "stdout",
     "output_type": "stream",
     "text": [
      "1 2 3 4 5\n",
      "3\n",
      "3 4 5 1 2\n"
     ]
    }
   ],
   "source": [
    "def rotate(l,k):\n",
    "    #newl=l   # This is aliasing, this won't work\n",
    "    newl=l[:]   # This is cloning, it works...\n",
    "    oldl=l[:]\n",
    "    times=0\n",
    "    while times<k:\n",
    "        for i in range(len(l)):\n",
    "            newl[i]=oldl[i-1]\n",
    "        times+=1\n",
    "        oldl=newl[:]   #cloning the list\n",
    "    return newl\n",
    "\n",
    "s=input()\n",
    "k=int(input())\n",
    "l=s.split(' ')\n",
    "newl=rotate(l,k)\n",
    "\n",
    "s2=newl[0]\n",
    "for k in range(1,len(newl)):\n",
    "    s2+=' '+newl[k]\n",
    "print(s2)  \n",
    "    \n",
    "    "
   ]
  }
 ],
 "metadata": {
  "kernelspec": {
   "display_name": "Python 3",
   "language": "python",
   "name": "python3"
  },
  "language_info": {
   "codemirror_mode": {
    "name": "ipython",
    "version": 3
   },
   "file_extension": ".py",
   "mimetype": "text/x-python",
   "name": "python",
   "nbconvert_exporter": "python",
   "pygments_lexer": "ipython3",
   "version": "3.9.4"
  }
 },
 "nbformat": 4,
 "nbformat_minor": 5
}
